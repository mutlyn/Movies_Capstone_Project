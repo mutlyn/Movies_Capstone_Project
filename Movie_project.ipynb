{
  "cells": [
    {
      "cell_type": "markdown",
      "metadata": {
        "id": "Yk4tXpLgr_5L"
      },
      "source": [
        "We first install kaggle"
      ]
    },
    {
      "cell_type": "code",
      "execution_count": 1,
      "metadata": {
        "id": "QrBK1wrsqm33",
        "colab": {
          "base_uri": "https://localhost:8080/"
        },
        "outputId": "48b0aaa4-7d0f-4a8e-f2b8-0ac21ac25d14"
      },
      "outputs": [
        {
          "output_type": "stream",
          "name": "stdout",
          "text": [
            "Requirement already satisfied: kaggle in /usr/local/lib/python3.10/dist-packages (1.6.17)\n",
            "Requirement already satisfied: six>=1.10 in /usr/local/lib/python3.10/dist-packages (from kaggle) (1.16.0)\n",
            "Requirement already satisfied: certifi>=2023.7.22 in /usr/local/lib/python3.10/dist-packages (from kaggle) (2024.7.4)\n",
            "Requirement already satisfied: python-dateutil in /usr/local/lib/python3.10/dist-packages (from kaggle) (2.8.2)\n",
            "Requirement already satisfied: requests in /usr/local/lib/python3.10/dist-packages (from kaggle) (2.32.3)\n",
            "Requirement already satisfied: tqdm in /usr/local/lib/python3.10/dist-packages (from kaggle) (4.66.5)\n",
            "Requirement already satisfied: python-slugify in /usr/local/lib/python3.10/dist-packages (from kaggle) (8.0.4)\n",
            "Requirement already satisfied: urllib3 in /usr/local/lib/python3.10/dist-packages (from kaggle) (2.0.7)\n",
            "Requirement already satisfied: bleach in /usr/local/lib/python3.10/dist-packages (from kaggle) (6.1.0)\n",
            "Requirement already satisfied: webencodings in /usr/local/lib/python3.10/dist-packages (from bleach->kaggle) (0.5.1)\n",
            "Requirement already satisfied: text-unidecode>=1.3 in /usr/local/lib/python3.10/dist-packages (from python-slugify->kaggle) (1.3)\n",
            "Requirement already satisfied: charset-normalizer<4,>=2 in /usr/local/lib/python3.10/dist-packages (from requests->kaggle) (3.3.2)\n",
            "Requirement already satisfied: idna<4,>=2.5 in /usr/local/lib/python3.10/dist-packages (from requests->kaggle) (3.8)\n"
          ]
        }
      ],
      "source": [
        "pip install kaggle"
      ]
    },
    {
      "cell_type": "markdown",
      "metadata": {
        "id": "ex7BUpVJr8u5"
      },
      "source": [
        "We then import kaggle"
      ]
    },
    {
      "cell_type": "code",
      "execution_count": 2,
      "metadata": {
        "id": "LEFX_uhz1OLY"
      },
      "outputs": [],
      "source": [
        "! mkdir ~/.kaggle"
      ]
    },
    {
      "cell_type": "code",
      "execution_count": 3,
      "metadata": {
        "id": "ucJy0p1R1gsz",
        "colab": {
          "base_uri": "https://localhost:8080/"
        },
        "outputId": "9725b6c5-6b56-4a42-b338-3c2739b57cd0"
      },
      "outputs": [
        {
          "output_type": "stream",
          "name": "stdout",
          "text": [
            "cp: cannot stat 'kaggle.json': No such file or directory\n"
          ]
        }
      ],
      "source": [
        "! cp kaggle.json ~/.kaggle/"
      ]
    },
    {
      "cell_type": "code",
      "execution_count": 4,
      "metadata": {
        "id": "8O3I9y7t1puI",
        "colab": {
          "base_uri": "https://localhost:8080/"
        },
        "outputId": "11585c5d-2141-4fb8-a6c4-3d5e8cf4d959"
      },
      "outputs": [
        {
          "output_type": "stream",
          "name": "stdout",
          "text": [
            "chmod: cannot access '/root/.kaggle/kaggle.json': No such file or directory\n"
          ]
        }
      ],
      "source": [
        "! chmod 600 ~/.kaggle/kaggle.json"
      ]
    },
    {
      "cell_type": "code",
      "execution_count": 5,
      "metadata": {
        "id": "8nUDDAsi1xTQ",
        "colab": {
          "base_uri": "https://localhost:8080/"
        },
        "outputId": "b00a2629-6f23-4fc2-c2a5-96bbc44e9ee9"
      },
      "outputs": [
        {
          "output_type": "stream",
          "name": "stdout",
          "text": [
            "Dataset URL: https://www.kaggle.com/datasets/danielgrijalvas/movies\n",
            "License(s): CC0-1.0\n",
            "Downloading movies.zip to /content\n",
            "  0% 0.00/424k [00:00<?, ?B/s]\n",
            "100% 424k/424k [00:00<00:00, 82.7MB/s]\n"
          ]
        }
      ],
      "source": [
        "! kaggle datasets download danielgrijalvas/movies"
      ]
    },
    {
      "cell_type": "markdown",
      "metadata": {
        "id": "ICgRtBN2r7o5"
      },
      "source": [
        "unzipping the folder\n"
      ]
    },
    {
      "cell_type": "code",
      "execution_count": 6,
      "metadata": {
        "colab": {
          "base_uri": "https://localhost:8080/"
        },
        "id": "MWRMXPhh2Bvi",
        "outputId": "257ff68f-d0cf-4861-d514-b356cf08f5af"
      },
      "outputs": [
        {
          "output_type": "stream",
          "name": "stdout",
          "text": [
            "Archive:  /content/movies.zip\n",
            "  inflating: movies.csv              \n"
          ]
        }
      ],
      "source": [
        "!unzip /content/movies.zip"
      ]
    },
    {
      "cell_type": "markdown",
      "metadata": {
        "id": "RMihaCAO2zCL"
      },
      "source": [
        "Importing the relevant libraries that will be used in the project"
      ]
    },
    {
      "cell_type": "code",
      "execution_count": 7,
      "metadata": {
        "id": "615-oWnd2pZ7"
      },
      "outputs": [],
      "source": [
        "import pandas as pd\n",
        "import matplotlib.pyplot as plt\n",
        "import seaborn as sns\n",
        "import numpy as np"
      ]
    },
    {
      "cell_type": "code",
      "execution_count": 8,
      "metadata": {
        "id": "vcJjw2Fk35dB"
      },
      "outputs": [],
      "source": [
        "movies_data=pd.read_csv('/content/movies.csv')"
      ]
    },
    {
      "cell_type": "markdown",
      "metadata": {
        "id": "bLzrGKkj-LUd"
      },
      "source": [
        "Data Overview & Cleaning"
      ]
    },
    {
      "cell_type": "markdown",
      "metadata": {
        "id": "Su5AgTHTAfNu"
      },
      "source": [
        "Initial exploration to check for the first 10 rows."
      ]
    },
    {
      "cell_type": "code",
      "execution_count": 9,
      "metadata": {
        "id": "wBvHSD1z58ls",
        "colab": {
          "base_uri": "https://localhost:8080/",
          "height": 503
        },
        "outputId": "e8a8cd83-3883-4249-96ca-1154d0acbe79"
      },
      "outputs": [
        {
          "output_type": "execute_result",
          "data": {
            "text/plain": [
              "                                             name rating      genre  year  \\\n",
              "0                                     The Shining      R      Drama  1980   \n",
              "1                                 The Blue Lagoon      R  Adventure  1980   \n",
              "2  Star Wars: Episode V - The Empire Strikes Back     PG     Action  1980   \n",
              "3                                       Airplane!     PG     Comedy  1980   \n",
              "4                                      Caddyshack      R     Comedy  1980   \n",
              "\n",
              "                        released  score      votes         director  \\\n",
              "0  June 13, 1980 (United States)    8.4   927000.0  Stanley Kubrick   \n",
              "1   July 2, 1980 (United States)    5.8    65000.0   Randal Kleiser   \n",
              "2  June 20, 1980 (United States)    8.7  1200000.0   Irvin Kershner   \n",
              "3   July 2, 1980 (United States)    7.7   221000.0     Jim Abrahams   \n",
              "4  July 25, 1980 (United States)    7.3   108000.0     Harold Ramis   \n",
              "\n",
              "                    writer            star         country      budget  \\\n",
              "0             Stephen King  Jack Nicholson  United Kingdom  19000000.0   \n",
              "1  Henry De Vere Stacpoole  Brooke Shields   United States   4500000.0   \n",
              "2           Leigh Brackett     Mark Hamill   United States  18000000.0   \n",
              "3             Jim Abrahams     Robert Hays   United States   3500000.0   \n",
              "4       Brian Doyle-Murray     Chevy Chase   United States   6000000.0   \n",
              "\n",
              "         gross             company  runtime  \n",
              "0   46998772.0        Warner Bros.    146.0  \n",
              "1   58853106.0   Columbia Pictures    104.0  \n",
              "2  538375067.0           Lucasfilm    124.0  \n",
              "3   83453539.0  Paramount Pictures     88.0  \n",
              "4   39846344.0      Orion Pictures     98.0  "
            ],
            "text/html": [
              "\n",
              "  <div id=\"df-0b14933a-f5f3-4893-963f-669207692416\" class=\"colab-df-container\">\n",
              "    <div>\n",
              "<style scoped>\n",
              "    .dataframe tbody tr th:only-of-type {\n",
              "        vertical-align: middle;\n",
              "    }\n",
              "\n",
              "    .dataframe tbody tr th {\n",
              "        vertical-align: top;\n",
              "    }\n",
              "\n",
              "    .dataframe thead th {\n",
              "        text-align: right;\n",
              "    }\n",
              "</style>\n",
              "<table border=\"1\" class=\"dataframe\">\n",
              "  <thead>\n",
              "    <tr style=\"text-align: right;\">\n",
              "      <th></th>\n",
              "      <th>name</th>\n",
              "      <th>rating</th>\n",
              "      <th>genre</th>\n",
              "      <th>year</th>\n",
              "      <th>released</th>\n",
              "      <th>score</th>\n",
              "      <th>votes</th>\n",
              "      <th>director</th>\n",
              "      <th>writer</th>\n",
              "      <th>star</th>\n",
              "      <th>country</th>\n",
              "      <th>budget</th>\n",
              "      <th>gross</th>\n",
              "      <th>company</th>\n",
              "      <th>runtime</th>\n",
              "    </tr>\n",
              "  </thead>\n",
              "  <tbody>\n",
              "    <tr>\n",
              "      <th>0</th>\n",
              "      <td>The Shining</td>\n",
              "      <td>R</td>\n",
              "      <td>Drama</td>\n",
              "      <td>1980</td>\n",
              "      <td>June 13, 1980 (United States)</td>\n",
              "      <td>8.4</td>\n",
              "      <td>927000.0</td>\n",
              "      <td>Stanley Kubrick</td>\n",
              "      <td>Stephen King</td>\n",
              "      <td>Jack Nicholson</td>\n",
              "      <td>United Kingdom</td>\n",
              "      <td>19000000.0</td>\n",
              "      <td>46998772.0</td>\n",
              "      <td>Warner Bros.</td>\n",
              "      <td>146.0</td>\n",
              "    </tr>\n",
              "    <tr>\n",
              "      <th>1</th>\n",
              "      <td>The Blue Lagoon</td>\n",
              "      <td>R</td>\n",
              "      <td>Adventure</td>\n",
              "      <td>1980</td>\n",
              "      <td>July 2, 1980 (United States)</td>\n",
              "      <td>5.8</td>\n",
              "      <td>65000.0</td>\n",
              "      <td>Randal Kleiser</td>\n",
              "      <td>Henry De Vere Stacpoole</td>\n",
              "      <td>Brooke Shields</td>\n",
              "      <td>United States</td>\n",
              "      <td>4500000.0</td>\n",
              "      <td>58853106.0</td>\n",
              "      <td>Columbia Pictures</td>\n",
              "      <td>104.0</td>\n",
              "    </tr>\n",
              "    <tr>\n",
              "      <th>2</th>\n",
              "      <td>Star Wars: Episode V - The Empire Strikes Back</td>\n",
              "      <td>PG</td>\n",
              "      <td>Action</td>\n",
              "      <td>1980</td>\n",
              "      <td>June 20, 1980 (United States)</td>\n",
              "      <td>8.7</td>\n",
              "      <td>1200000.0</td>\n",
              "      <td>Irvin Kershner</td>\n",
              "      <td>Leigh Brackett</td>\n",
              "      <td>Mark Hamill</td>\n",
              "      <td>United States</td>\n",
              "      <td>18000000.0</td>\n",
              "      <td>538375067.0</td>\n",
              "      <td>Lucasfilm</td>\n",
              "      <td>124.0</td>\n",
              "    </tr>\n",
              "    <tr>\n",
              "      <th>3</th>\n",
              "      <td>Airplane!</td>\n",
              "      <td>PG</td>\n",
              "      <td>Comedy</td>\n",
              "      <td>1980</td>\n",
              "      <td>July 2, 1980 (United States)</td>\n",
              "      <td>7.7</td>\n",
              "      <td>221000.0</td>\n",
              "      <td>Jim Abrahams</td>\n",
              "      <td>Jim Abrahams</td>\n",
              "      <td>Robert Hays</td>\n",
              "      <td>United States</td>\n",
              "      <td>3500000.0</td>\n",
              "      <td>83453539.0</td>\n",
              "      <td>Paramount Pictures</td>\n",
              "      <td>88.0</td>\n",
              "    </tr>\n",
              "    <tr>\n",
              "      <th>4</th>\n",
              "      <td>Caddyshack</td>\n",
              "      <td>R</td>\n",
              "      <td>Comedy</td>\n",
              "      <td>1980</td>\n",
              "      <td>July 25, 1980 (United States)</td>\n",
              "      <td>7.3</td>\n",
              "      <td>108000.0</td>\n",
              "      <td>Harold Ramis</td>\n",
              "      <td>Brian Doyle-Murray</td>\n",
              "      <td>Chevy Chase</td>\n",
              "      <td>United States</td>\n",
              "      <td>6000000.0</td>\n",
              "      <td>39846344.0</td>\n",
              "      <td>Orion Pictures</td>\n",
              "      <td>98.0</td>\n",
              "    </tr>\n",
              "  </tbody>\n",
              "</table>\n",
              "</div>\n",
              "    <div class=\"colab-df-buttons\">\n",
              "\n",
              "  <div class=\"colab-df-container\">\n",
              "    <button class=\"colab-df-convert\" onclick=\"convertToInteractive('df-0b14933a-f5f3-4893-963f-669207692416')\"\n",
              "            title=\"Convert this dataframe to an interactive table.\"\n",
              "            style=\"display:none;\">\n",
              "\n",
              "  <svg xmlns=\"http://www.w3.org/2000/svg\" height=\"24px\" viewBox=\"0 -960 960 960\">\n",
              "    <path d=\"M120-120v-720h720v720H120Zm60-500h600v-160H180v160Zm220 220h160v-160H400v160Zm0 220h160v-160H400v160ZM180-400h160v-160H180v160Zm440 0h160v-160H620v160ZM180-180h160v-160H180v160Zm440 0h160v-160H620v160Z\"/>\n",
              "  </svg>\n",
              "    </button>\n",
              "\n",
              "  <style>\n",
              "    .colab-df-container {\n",
              "      display:flex;\n",
              "      gap: 12px;\n",
              "    }\n",
              "\n",
              "    .colab-df-convert {\n",
              "      background-color: #E8F0FE;\n",
              "      border: none;\n",
              "      border-radius: 50%;\n",
              "      cursor: pointer;\n",
              "      display: none;\n",
              "      fill: #1967D2;\n",
              "      height: 32px;\n",
              "      padding: 0 0 0 0;\n",
              "      width: 32px;\n",
              "    }\n",
              "\n",
              "    .colab-df-convert:hover {\n",
              "      background-color: #E2EBFA;\n",
              "      box-shadow: 0px 1px 2px rgba(60, 64, 67, 0.3), 0px 1px 3px 1px rgba(60, 64, 67, 0.15);\n",
              "      fill: #174EA6;\n",
              "    }\n",
              "\n",
              "    .colab-df-buttons div {\n",
              "      margin-bottom: 4px;\n",
              "    }\n",
              "\n",
              "    [theme=dark] .colab-df-convert {\n",
              "      background-color: #3B4455;\n",
              "      fill: #D2E3FC;\n",
              "    }\n",
              "\n",
              "    [theme=dark] .colab-df-convert:hover {\n",
              "      background-color: #434B5C;\n",
              "      box-shadow: 0px 1px 3px 1px rgba(0, 0, 0, 0.15);\n",
              "      filter: drop-shadow(0px 1px 2px rgba(0, 0, 0, 0.3));\n",
              "      fill: #FFFFFF;\n",
              "    }\n",
              "  </style>\n",
              "\n",
              "    <script>\n",
              "      const buttonEl =\n",
              "        document.querySelector('#df-0b14933a-f5f3-4893-963f-669207692416 button.colab-df-convert');\n",
              "      buttonEl.style.display =\n",
              "        google.colab.kernel.accessAllowed ? 'block' : 'none';\n",
              "\n",
              "      async function convertToInteractive(key) {\n",
              "        const element = document.querySelector('#df-0b14933a-f5f3-4893-963f-669207692416');\n",
              "        const dataTable =\n",
              "          await google.colab.kernel.invokeFunction('convertToInteractive',\n",
              "                                                    [key], {});\n",
              "        if (!dataTable) return;\n",
              "\n",
              "        const docLinkHtml = 'Like what you see? Visit the ' +\n",
              "          '<a target=\"_blank\" href=https://colab.research.google.com/notebooks/data_table.ipynb>data table notebook</a>'\n",
              "          + ' to learn more about interactive tables.';\n",
              "        element.innerHTML = '';\n",
              "        dataTable['output_type'] = 'display_data';\n",
              "        await google.colab.output.renderOutput(dataTable, element);\n",
              "        const docLink = document.createElement('div');\n",
              "        docLink.innerHTML = docLinkHtml;\n",
              "        element.appendChild(docLink);\n",
              "      }\n",
              "    </script>\n",
              "  </div>\n",
              "\n",
              "\n",
              "<div id=\"df-ab2bc209-8745-4199-8d9e-c5c667f7bc2c\">\n",
              "  <button class=\"colab-df-quickchart\" onclick=\"quickchart('df-ab2bc209-8745-4199-8d9e-c5c667f7bc2c')\"\n",
              "            title=\"Suggest charts\"\n",
              "            style=\"display:none;\">\n",
              "\n",
              "<svg xmlns=\"http://www.w3.org/2000/svg\" height=\"24px\"viewBox=\"0 0 24 24\"\n",
              "     width=\"24px\">\n",
              "    <g>\n",
              "        <path d=\"M19 3H5c-1.1 0-2 .9-2 2v14c0 1.1.9 2 2 2h14c1.1 0 2-.9 2-2V5c0-1.1-.9-2-2-2zM9 17H7v-7h2v7zm4 0h-2V7h2v10zm4 0h-2v-4h2v4z\"/>\n",
              "    </g>\n",
              "</svg>\n",
              "  </button>\n",
              "\n",
              "<style>\n",
              "  .colab-df-quickchart {\n",
              "      --bg-color: #E8F0FE;\n",
              "      --fill-color: #1967D2;\n",
              "      --hover-bg-color: #E2EBFA;\n",
              "      --hover-fill-color: #174EA6;\n",
              "      --disabled-fill-color: #AAA;\n",
              "      --disabled-bg-color: #DDD;\n",
              "  }\n",
              "\n",
              "  [theme=dark] .colab-df-quickchart {\n",
              "      --bg-color: #3B4455;\n",
              "      --fill-color: #D2E3FC;\n",
              "      --hover-bg-color: #434B5C;\n",
              "      --hover-fill-color: #FFFFFF;\n",
              "      --disabled-bg-color: #3B4455;\n",
              "      --disabled-fill-color: #666;\n",
              "  }\n",
              "\n",
              "  .colab-df-quickchart {\n",
              "    background-color: var(--bg-color);\n",
              "    border: none;\n",
              "    border-radius: 50%;\n",
              "    cursor: pointer;\n",
              "    display: none;\n",
              "    fill: var(--fill-color);\n",
              "    height: 32px;\n",
              "    padding: 0;\n",
              "    width: 32px;\n",
              "  }\n",
              "\n",
              "  .colab-df-quickchart:hover {\n",
              "    background-color: var(--hover-bg-color);\n",
              "    box-shadow: 0 1px 2px rgba(60, 64, 67, 0.3), 0 1px 3px 1px rgba(60, 64, 67, 0.15);\n",
              "    fill: var(--button-hover-fill-color);\n",
              "  }\n",
              "\n",
              "  .colab-df-quickchart-complete:disabled,\n",
              "  .colab-df-quickchart-complete:disabled:hover {\n",
              "    background-color: var(--disabled-bg-color);\n",
              "    fill: var(--disabled-fill-color);\n",
              "    box-shadow: none;\n",
              "  }\n",
              "\n",
              "  .colab-df-spinner {\n",
              "    border: 2px solid var(--fill-color);\n",
              "    border-color: transparent;\n",
              "    border-bottom-color: var(--fill-color);\n",
              "    animation:\n",
              "      spin 1s steps(1) infinite;\n",
              "  }\n",
              "\n",
              "  @keyframes spin {\n",
              "    0% {\n",
              "      border-color: transparent;\n",
              "      border-bottom-color: var(--fill-color);\n",
              "      border-left-color: var(--fill-color);\n",
              "    }\n",
              "    20% {\n",
              "      border-color: transparent;\n",
              "      border-left-color: var(--fill-color);\n",
              "      border-top-color: var(--fill-color);\n",
              "    }\n",
              "    30% {\n",
              "      border-color: transparent;\n",
              "      border-left-color: var(--fill-color);\n",
              "      border-top-color: var(--fill-color);\n",
              "      border-right-color: var(--fill-color);\n",
              "    }\n",
              "    40% {\n",
              "      border-color: transparent;\n",
              "      border-right-color: var(--fill-color);\n",
              "      border-top-color: var(--fill-color);\n",
              "    }\n",
              "    60% {\n",
              "      border-color: transparent;\n",
              "      border-right-color: var(--fill-color);\n",
              "    }\n",
              "    80% {\n",
              "      border-color: transparent;\n",
              "      border-right-color: var(--fill-color);\n",
              "      border-bottom-color: var(--fill-color);\n",
              "    }\n",
              "    90% {\n",
              "      border-color: transparent;\n",
              "      border-bottom-color: var(--fill-color);\n",
              "    }\n",
              "  }\n",
              "</style>\n",
              "\n",
              "  <script>\n",
              "    async function quickchart(key) {\n",
              "      const quickchartButtonEl =\n",
              "        document.querySelector('#' + key + ' button');\n",
              "      quickchartButtonEl.disabled = true;  // To prevent multiple clicks.\n",
              "      quickchartButtonEl.classList.add('colab-df-spinner');\n",
              "      try {\n",
              "        const charts = await google.colab.kernel.invokeFunction(\n",
              "            'suggestCharts', [key], {});\n",
              "      } catch (error) {\n",
              "        console.error('Error during call to suggestCharts:', error);\n",
              "      }\n",
              "      quickchartButtonEl.classList.remove('colab-df-spinner');\n",
              "      quickchartButtonEl.classList.add('colab-df-quickchart-complete');\n",
              "    }\n",
              "    (() => {\n",
              "      let quickchartButtonEl =\n",
              "        document.querySelector('#df-ab2bc209-8745-4199-8d9e-c5c667f7bc2c button');\n",
              "      quickchartButtonEl.style.display =\n",
              "        google.colab.kernel.accessAllowed ? 'block' : 'none';\n",
              "    })();\n",
              "  </script>\n",
              "</div>\n",
              "\n",
              "    </div>\n",
              "  </div>\n"
            ],
            "application/vnd.google.colaboratory.intrinsic+json": {
              "type": "dataframe",
              "variable_name": "movies_data",
              "summary": "{\n  \"name\": \"movies_data\",\n  \"rows\": 7668,\n  \"fields\": [\n    {\n      \"column\": \"name\",\n      \"properties\": {\n        \"dtype\": \"string\",\n        \"num_unique_values\": 7512,\n        \"samples\": [\n          \"Blade: Trinity\",\n          \"The Book of Eli\",\n          \"Broken Flowers\"\n        ],\n        \"semantic_type\": \"\",\n        \"description\": \"\"\n      }\n    },\n    {\n      \"column\": \"rating\",\n      \"properties\": {\n        \"dtype\": \"category\",\n        \"num_unique_values\": 12,\n        \"samples\": [\n          \"TV-MA\",\n          \"X\",\n          \"R\"\n        ],\n        \"semantic_type\": \"\",\n        \"description\": \"\"\n      }\n    },\n    {\n      \"column\": \"genre\",\n      \"properties\": {\n        \"dtype\": \"category\",\n        \"num_unique_values\": 19,\n        \"samples\": [\n          \"Drama\",\n          \"Biography\",\n          \"Romance\"\n        ],\n        \"semantic_type\": \"\",\n        \"description\": \"\"\n      }\n    },\n    {\n      \"column\": \"year\",\n      \"properties\": {\n        \"dtype\": \"number\",\n        \"std\": 11,\n        \"min\": 1980,\n        \"max\": 2020,\n        \"num_unique_values\": 41,\n        \"samples\": [\n          2004,\n          1993,\n          1988\n        ],\n        \"semantic_type\": \"\",\n        \"description\": \"\"\n      }\n    },\n    {\n      \"column\": \"released\",\n      \"properties\": {\n        \"dtype\": \"category\",\n        \"num_unique_values\": 3414,\n        \"samples\": [\n          \"December 3, 2004 (Italy)\",\n          \"February 28, 2003 (United States)\",\n          \"October 6, 1982 (United States)\"\n        ],\n        \"semantic_type\": \"\",\n        \"description\": \"\"\n      }\n    },\n    {\n      \"column\": \"score\",\n      \"properties\": {\n        \"dtype\": \"number\",\n        \"std\": 0.9688416402530589,\n        \"min\": 1.9,\n        \"max\": 9.3,\n        \"num_unique_values\": 72,\n        \"samples\": [\n          7.3,\n          9.3,\n          5.0\n        ],\n        \"semantic_type\": \"\",\n        \"description\": \"\"\n      }\n    },\n    {\n      \"column\": \"votes\",\n      \"properties\": {\n        \"dtype\": \"number\",\n        \"std\": 163323.7639095062,\n        \"min\": 7.0,\n        \"max\": 2400000.0,\n        \"num_unique_values\": 936,\n        \"samples\": [\n          128.0,\n          740.0,\n          115.0\n        ],\n        \"semantic_type\": \"\",\n        \"description\": \"\"\n      }\n    },\n    {\n      \"column\": \"director\",\n      \"properties\": {\n        \"dtype\": \"category\",\n        \"num_unique_values\": 2949,\n        \"samples\": [\n          \"Phillip Noyce\",\n          \"Bruce Paltrow\",\n          \"Camille Delamarre\"\n        ],\n        \"semantic_type\": \"\",\n        \"description\": \"\"\n      }\n    },\n    {\n      \"column\": \"writer\",\n      \"properties\": {\n        \"dtype\": \"string\",\n        \"num_unique_values\": 4535,\n        \"samples\": [\n          \"Gene Taft\",\n          \"Mitchell Kriegman\",\n          \"Justin Marks\"\n        ],\n        \"semantic_type\": \"\",\n        \"description\": \"\"\n      }\n    },\n    {\n      \"column\": \"star\",\n      \"properties\": {\n        \"dtype\": \"category\",\n        \"num_unique_values\": 2814,\n        \"samples\": [\n          \"Kurt McKinney\",\n          \"You Ge\",\n          \"Lisa Donaldson\"\n        ],\n        \"semantic_type\": \"\",\n        \"description\": \"\"\n      }\n    },\n    {\n      \"column\": \"country\",\n      \"properties\": {\n        \"dtype\": \"category\",\n        \"num_unique_values\": 59,\n        \"samples\": [\n          \"United Kingdom\",\n          \"Australia\",\n          \"Vietnam\"\n        ],\n        \"semantic_type\": \"\",\n        \"description\": \"\"\n      }\n    },\n    {\n      \"column\": \"budget\",\n      \"properties\": {\n        \"dtype\": \"number\",\n        \"std\": 41457296.601931,\n        \"min\": 3000.0,\n        \"max\": 356000000.0,\n        \"num_unique_values\": 413,\n        \"samples\": [\n          321000000.0,\n          209000000.0,\n          11400000.0\n        ],\n        \"semantic_type\": \"\",\n        \"description\": \"\"\n      }\n    },\n    {\n      \"column\": \"gross\",\n      \"properties\": {\n        \"dtype\": \"number\",\n        \"std\": 165725124.3187572,\n        \"min\": 309.0,\n        \"max\": 2847246203.0,\n        \"num_unique_values\": 7472,\n        \"samples\": [\n          11098131.0,\n          1839623.0,\n          1482316.0\n        ],\n        \"semantic_type\": \"\",\n        \"description\": \"\"\n      }\n    },\n    {\n      \"column\": \"company\",\n      \"properties\": {\n        \"dtype\": \"category\",\n        \"num_unique_values\": 2385,\n        \"samples\": [\n          \"Casey Silver Productions\",\n          \"Path\\u00e9 Renn Productions\",\n          \"Engine Film\"\n        ],\n        \"semantic_type\": \"\",\n        \"description\": \"\"\n      }\n    },\n    {\n      \"column\": \"runtime\",\n      \"properties\": {\n        \"dtype\": \"number\",\n        \"std\": 18.581247313480567,\n        \"min\": 55.0,\n        \"max\": 366.0,\n        \"num_unique_values\": 138,\n        \"samples\": [\n          144.0,\n          238.0,\n          114.0\n        ],\n        \"semantic_type\": \"\",\n        \"description\": \"\"\n      }\n    }\n  ]\n}"
            }
          },
          "metadata": {},
          "execution_count": 9
        }
      ],
      "source": [
        "movies_data.head()"
      ]
    },
    {
      "cell_type": "markdown",
      "metadata": {
        "id": "YPHC3bCkAaSX"
      },
      "source": [
        "Gives information about the rows and columns in the dataset as well as their data types."
      ]
    },
    {
      "cell_type": "code",
      "execution_count": 10,
      "metadata": {
        "id": "R7CUMyw6-n1p",
        "colab": {
          "base_uri": "https://localhost:8080/"
        },
        "outputId": "ab37a08b-4ede-453f-8fc3-0797da5dab52"
      },
      "outputs": [
        {
          "output_type": "stream",
          "name": "stdout",
          "text": [
            "<class 'pandas.core.frame.DataFrame'>\n",
            "RangeIndex: 7668 entries, 0 to 7667\n",
            "Data columns (total 15 columns):\n",
            " #   Column    Non-Null Count  Dtype  \n",
            "---  ------    --------------  -----  \n",
            " 0   name      7668 non-null   object \n",
            " 1   rating    7591 non-null   object \n",
            " 2   genre     7668 non-null   object \n",
            " 3   year      7668 non-null   int64  \n",
            " 4   released  7666 non-null   object \n",
            " 5   score     7665 non-null   float64\n",
            " 6   votes     7665 non-null   float64\n",
            " 7   director  7668 non-null   object \n",
            " 8   writer    7665 non-null   object \n",
            " 9   star      7667 non-null   object \n",
            " 10  country   7665 non-null   object \n",
            " 11  budget    5497 non-null   float64\n",
            " 12  gross     7479 non-null   float64\n",
            " 13  company   7651 non-null   object \n",
            " 14  runtime   7664 non-null   float64\n",
            "dtypes: float64(5), int64(1), object(9)\n",
            "memory usage: 898.7+ KB\n"
          ]
        }
      ],
      "source": [
        "movies_data.info()"
      ]
    },
    {
      "cell_type": "markdown",
      "metadata": {
        "id": "jnl3oaFEAmSx"
      },
      "source": [
        "Analyzes numeric as well as to object series or series of a DataFrame and check for outliers."
      ]
    },
    {
      "cell_type": "code",
      "execution_count": 11,
      "metadata": {
        "id": "a2277sS1AuCJ",
        "colab": {
          "base_uri": "https://localhost:8080/",
          "height": 300
        },
        "outputId": "8f5105ce-1cf2-4938-b407-176280de7360"
      },
      "outputs": [
        {
          "output_type": "execute_result",
          "data": {
            "text/plain": [
              "              year        score         votes        budget         gross  \\\n",
              "count  7668.000000  7665.000000  7.665000e+03  5.497000e+03  7.479000e+03   \n",
              "mean   2000.405451     6.390411  8.810850e+04  3.558988e+07  7.850054e+07   \n",
              "std      11.153508     0.968842  1.633238e+05  4.145730e+07  1.657251e+08   \n",
              "min    1980.000000     1.900000  7.000000e+00  3.000000e+03  3.090000e+02   \n",
              "25%    1991.000000     5.800000  9.100000e+03  1.000000e+07  4.532056e+06   \n",
              "50%    2000.000000     6.500000  3.300000e+04  2.050000e+07  2.020576e+07   \n",
              "75%    2010.000000     7.100000  9.300000e+04  4.500000e+07  7.601669e+07   \n",
              "max    2020.000000     9.300000  2.400000e+06  3.560000e+08  2.847246e+09   \n",
              "\n",
              "           runtime  \n",
              "count  7664.000000  \n",
              "mean    107.261613  \n",
              "std      18.581247  \n",
              "min      55.000000  \n",
              "25%      95.000000  \n",
              "50%     104.000000  \n",
              "75%     116.000000  \n",
              "max     366.000000  "
            ],
            "text/html": [
              "\n",
              "  <div id=\"df-9324962a-9a69-4fdc-a6de-8db74b237c72\" class=\"colab-df-container\">\n",
              "    <div>\n",
              "<style scoped>\n",
              "    .dataframe tbody tr th:only-of-type {\n",
              "        vertical-align: middle;\n",
              "    }\n",
              "\n",
              "    .dataframe tbody tr th {\n",
              "        vertical-align: top;\n",
              "    }\n",
              "\n",
              "    .dataframe thead th {\n",
              "        text-align: right;\n",
              "    }\n",
              "</style>\n",
              "<table border=\"1\" class=\"dataframe\">\n",
              "  <thead>\n",
              "    <tr style=\"text-align: right;\">\n",
              "      <th></th>\n",
              "      <th>year</th>\n",
              "      <th>score</th>\n",
              "      <th>votes</th>\n",
              "      <th>budget</th>\n",
              "      <th>gross</th>\n",
              "      <th>runtime</th>\n",
              "    </tr>\n",
              "  </thead>\n",
              "  <tbody>\n",
              "    <tr>\n",
              "      <th>count</th>\n",
              "      <td>7668.000000</td>\n",
              "      <td>7665.000000</td>\n",
              "      <td>7.665000e+03</td>\n",
              "      <td>5.497000e+03</td>\n",
              "      <td>7.479000e+03</td>\n",
              "      <td>7664.000000</td>\n",
              "    </tr>\n",
              "    <tr>\n",
              "      <th>mean</th>\n",
              "      <td>2000.405451</td>\n",
              "      <td>6.390411</td>\n",
              "      <td>8.810850e+04</td>\n",
              "      <td>3.558988e+07</td>\n",
              "      <td>7.850054e+07</td>\n",
              "      <td>107.261613</td>\n",
              "    </tr>\n",
              "    <tr>\n",
              "      <th>std</th>\n",
              "      <td>11.153508</td>\n",
              "      <td>0.968842</td>\n",
              "      <td>1.633238e+05</td>\n",
              "      <td>4.145730e+07</td>\n",
              "      <td>1.657251e+08</td>\n",
              "      <td>18.581247</td>\n",
              "    </tr>\n",
              "    <tr>\n",
              "      <th>min</th>\n",
              "      <td>1980.000000</td>\n",
              "      <td>1.900000</td>\n",
              "      <td>7.000000e+00</td>\n",
              "      <td>3.000000e+03</td>\n",
              "      <td>3.090000e+02</td>\n",
              "      <td>55.000000</td>\n",
              "    </tr>\n",
              "    <tr>\n",
              "      <th>25%</th>\n",
              "      <td>1991.000000</td>\n",
              "      <td>5.800000</td>\n",
              "      <td>9.100000e+03</td>\n",
              "      <td>1.000000e+07</td>\n",
              "      <td>4.532056e+06</td>\n",
              "      <td>95.000000</td>\n",
              "    </tr>\n",
              "    <tr>\n",
              "      <th>50%</th>\n",
              "      <td>2000.000000</td>\n",
              "      <td>6.500000</td>\n",
              "      <td>3.300000e+04</td>\n",
              "      <td>2.050000e+07</td>\n",
              "      <td>2.020576e+07</td>\n",
              "      <td>104.000000</td>\n",
              "    </tr>\n",
              "    <tr>\n",
              "      <th>75%</th>\n",
              "      <td>2010.000000</td>\n",
              "      <td>7.100000</td>\n",
              "      <td>9.300000e+04</td>\n",
              "      <td>4.500000e+07</td>\n",
              "      <td>7.601669e+07</td>\n",
              "      <td>116.000000</td>\n",
              "    </tr>\n",
              "    <tr>\n",
              "      <th>max</th>\n",
              "      <td>2020.000000</td>\n",
              "      <td>9.300000</td>\n",
              "      <td>2.400000e+06</td>\n",
              "      <td>3.560000e+08</td>\n",
              "      <td>2.847246e+09</td>\n",
              "      <td>366.000000</td>\n",
              "    </tr>\n",
              "  </tbody>\n",
              "</table>\n",
              "</div>\n",
              "    <div class=\"colab-df-buttons\">\n",
              "\n",
              "  <div class=\"colab-df-container\">\n",
              "    <button class=\"colab-df-convert\" onclick=\"convertToInteractive('df-9324962a-9a69-4fdc-a6de-8db74b237c72')\"\n",
              "            title=\"Convert this dataframe to an interactive table.\"\n",
              "            style=\"display:none;\">\n",
              "\n",
              "  <svg xmlns=\"http://www.w3.org/2000/svg\" height=\"24px\" viewBox=\"0 -960 960 960\">\n",
              "    <path d=\"M120-120v-720h720v720H120Zm60-500h600v-160H180v160Zm220 220h160v-160H400v160Zm0 220h160v-160H400v160ZM180-400h160v-160H180v160Zm440 0h160v-160H620v160ZM180-180h160v-160H180v160Zm440 0h160v-160H620v160Z\"/>\n",
              "  </svg>\n",
              "    </button>\n",
              "\n",
              "  <style>\n",
              "    .colab-df-container {\n",
              "      display:flex;\n",
              "      gap: 12px;\n",
              "    }\n",
              "\n",
              "    .colab-df-convert {\n",
              "      background-color: #E8F0FE;\n",
              "      border: none;\n",
              "      border-radius: 50%;\n",
              "      cursor: pointer;\n",
              "      display: none;\n",
              "      fill: #1967D2;\n",
              "      height: 32px;\n",
              "      padding: 0 0 0 0;\n",
              "      width: 32px;\n",
              "    }\n",
              "\n",
              "    .colab-df-convert:hover {\n",
              "      background-color: #E2EBFA;\n",
              "      box-shadow: 0px 1px 2px rgba(60, 64, 67, 0.3), 0px 1px 3px 1px rgba(60, 64, 67, 0.15);\n",
              "      fill: #174EA6;\n",
              "    }\n",
              "\n",
              "    .colab-df-buttons div {\n",
              "      margin-bottom: 4px;\n",
              "    }\n",
              "\n",
              "    [theme=dark] .colab-df-convert {\n",
              "      background-color: #3B4455;\n",
              "      fill: #D2E3FC;\n",
              "    }\n",
              "\n",
              "    [theme=dark] .colab-df-convert:hover {\n",
              "      background-color: #434B5C;\n",
              "      box-shadow: 0px 1px 3px 1px rgba(0, 0, 0, 0.15);\n",
              "      filter: drop-shadow(0px 1px 2px rgba(0, 0, 0, 0.3));\n",
              "      fill: #FFFFFF;\n",
              "    }\n",
              "  </style>\n",
              "\n",
              "    <script>\n",
              "      const buttonEl =\n",
              "        document.querySelector('#df-9324962a-9a69-4fdc-a6de-8db74b237c72 button.colab-df-convert');\n",
              "      buttonEl.style.display =\n",
              "        google.colab.kernel.accessAllowed ? 'block' : 'none';\n",
              "\n",
              "      async function convertToInteractive(key) {\n",
              "        const element = document.querySelector('#df-9324962a-9a69-4fdc-a6de-8db74b237c72');\n",
              "        const dataTable =\n",
              "          await google.colab.kernel.invokeFunction('convertToInteractive',\n",
              "                                                    [key], {});\n",
              "        if (!dataTable) return;\n",
              "\n",
              "        const docLinkHtml = 'Like what you see? Visit the ' +\n",
              "          '<a target=\"_blank\" href=https://colab.research.google.com/notebooks/data_table.ipynb>data table notebook</a>'\n",
              "          + ' to learn more about interactive tables.';\n",
              "        element.innerHTML = '';\n",
              "        dataTable['output_type'] = 'display_data';\n",
              "        await google.colab.output.renderOutput(dataTable, element);\n",
              "        const docLink = document.createElement('div');\n",
              "        docLink.innerHTML = docLinkHtml;\n",
              "        element.appendChild(docLink);\n",
              "      }\n",
              "    </script>\n",
              "  </div>\n",
              "\n",
              "\n",
              "<div id=\"df-f4b55265-4395-446d-a62b-fc4ed970fff5\">\n",
              "  <button class=\"colab-df-quickchart\" onclick=\"quickchart('df-f4b55265-4395-446d-a62b-fc4ed970fff5')\"\n",
              "            title=\"Suggest charts\"\n",
              "            style=\"display:none;\">\n",
              "\n",
              "<svg xmlns=\"http://www.w3.org/2000/svg\" height=\"24px\"viewBox=\"0 0 24 24\"\n",
              "     width=\"24px\">\n",
              "    <g>\n",
              "        <path d=\"M19 3H5c-1.1 0-2 .9-2 2v14c0 1.1.9 2 2 2h14c1.1 0 2-.9 2-2V5c0-1.1-.9-2-2-2zM9 17H7v-7h2v7zm4 0h-2V7h2v10zm4 0h-2v-4h2v4z\"/>\n",
              "    </g>\n",
              "</svg>\n",
              "  </button>\n",
              "\n",
              "<style>\n",
              "  .colab-df-quickchart {\n",
              "      --bg-color: #E8F0FE;\n",
              "      --fill-color: #1967D2;\n",
              "      --hover-bg-color: #E2EBFA;\n",
              "      --hover-fill-color: #174EA6;\n",
              "      --disabled-fill-color: #AAA;\n",
              "      --disabled-bg-color: #DDD;\n",
              "  }\n",
              "\n",
              "  [theme=dark] .colab-df-quickchart {\n",
              "      --bg-color: #3B4455;\n",
              "      --fill-color: #D2E3FC;\n",
              "      --hover-bg-color: #434B5C;\n",
              "      --hover-fill-color: #FFFFFF;\n",
              "      --disabled-bg-color: #3B4455;\n",
              "      --disabled-fill-color: #666;\n",
              "  }\n",
              "\n",
              "  .colab-df-quickchart {\n",
              "    background-color: var(--bg-color);\n",
              "    border: none;\n",
              "    border-radius: 50%;\n",
              "    cursor: pointer;\n",
              "    display: none;\n",
              "    fill: var(--fill-color);\n",
              "    height: 32px;\n",
              "    padding: 0;\n",
              "    width: 32px;\n",
              "  }\n",
              "\n",
              "  .colab-df-quickchart:hover {\n",
              "    background-color: var(--hover-bg-color);\n",
              "    box-shadow: 0 1px 2px rgba(60, 64, 67, 0.3), 0 1px 3px 1px rgba(60, 64, 67, 0.15);\n",
              "    fill: var(--button-hover-fill-color);\n",
              "  }\n",
              "\n",
              "  .colab-df-quickchart-complete:disabled,\n",
              "  .colab-df-quickchart-complete:disabled:hover {\n",
              "    background-color: var(--disabled-bg-color);\n",
              "    fill: var(--disabled-fill-color);\n",
              "    box-shadow: none;\n",
              "  }\n",
              "\n",
              "  .colab-df-spinner {\n",
              "    border: 2px solid var(--fill-color);\n",
              "    border-color: transparent;\n",
              "    border-bottom-color: var(--fill-color);\n",
              "    animation:\n",
              "      spin 1s steps(1) infinite;\n",
              "  }\n",
              "\n",
              "  @keyframes spin {\n",
              "    0% {\n",
              "      border-color: transparent;\n",
              "      border-bottom-color: var(--fill-color);\n",
              "      border-left-color: var(--fill-color);\n",
              "    }\n",
              "    20% {\n",
              "      border-color: transparent;\n",
              "      border-left-color: var(--fill-color);\n",
              "      border-top-color: var(--fill-color);\n",
              "    }\n",
              "    30% {\n",
              "      border-color: transparent;\n",
              "      border-left-color: var(--fill-color);\n",
              "      border-top-color: var(--fill-color);\n",
              "      border-right-color: var(--fill-color);\n",
              "    }\n",
              "    40% {\n",
              "      border-color: transparent;\n",
              "      border-right-color: var(--fill-color);\n",
              "      border-top-color: var(--fill-color);\n",
              "    }\n",
              "    60% {\n",
              "      border-color: transparent;\n",
              "      border-right-color: var(--fill-color);\n",
              "    }\n",
              "    80% {\n",
              "      border-color: transparent;\n",
              "      border-right-color: var(--fill-color);\n",
              "      border-bottom-color: var(--fill-color);\n",
              "    }\n",
              "    90% {\n",
              "      border-color: transparent;\n",
              "      border-bottom-color: var(--fill-color);\n",
              "    }\n",
              "  }\n",
              "</style>\n",
              "\n",
              "  <script>\n",
              "    async function quickchart(key) {\n",
              "      const quickchartButtonEl =\n",
              "        document.querySelector('#' + key + ' button');\n",
              "      quickchartButtonEl.disabled = true;  // To prevent multiple clicks.\n",
              "      quickchartButtonEl.classList.add('colab-df-spinner');\n",
              "      try {\n",
              "        const charts = await google.colab.kernel.invokeFunction(\n",
              "            'suggestCharts', [key], {});\n",
              "      } catch (error) {\n",
              "        console.error('Error during call to suggestCharts:', error);\n",
              "      }\n",
              "      quickchartButtonEl.classList.remove('colab-df-spinner');\n",
              "      quickchartButtonEl.classList.add('colab-df-quickchart-complete');\n",
              "    }\n",
              "    (() => {\n",
              "      let quickchartButtonEl =\n",
              "        document.querySelector('#df-f4b55265-4395-446d-a62b-fc4ed970fff5 button');\n",
              "      quickchartButtonEl.style.display =\n",
              "        google.colab.kernel.accessAllowed ? 'block' : 'none';\n",
              "    })();\n",
              "  </script>\n",
              "</div>\n",
              "\n",
              "    </div>\n",
              "  </div>\n"
            ],
            "application/vnd.google.colaboratory.intrinsic+json": {
              "type": "dataframe",
              "summary": "{\n  \"name\": \"movies_data\",\n  \"rows\": 8,\n  \"fields\": [\n    {\n      \"column\": \"year\",\n      \"properties\": {\n        \"dtype\": \"number\",\n        \"std\": 2216.4772968563757,\n        \"min\": 11.153507842980964,\n        \"max\": 7668.0,\n        \"num_unique_values\": 8,\n        \"samples\": [\n          2000.4054512258738,\n          2000.0,\n          7668.0\n        ],\n        \"semantic_type\": \"\",\n        \"description\": \"\"\n      }\n    },\n    {\n      \"column\": \"score\",\n      \"properties\": {\n        \"dtype\": \"number\",\n        \"std\": 2708.070887448058,\n        \"min\": 0.9688416402530589,\n        \"max\": 7665.0,\n        \"num_unique_values\": 8,\n        \"samples\": [\n          6.390410958904109,\n          6.5,\n          7665.0\n        ],\n        \"semantic_type\": \"\",\n        \"description\": \"\"\n      }\n    },\n    {\n      \"column\": \"votes\",\n      \"properties\": {\n        \"dtype\": \"number\",\n        \"std\": 830522.2226200517,\n        \"min\": 7.0,\n        \"max\": 2400000.0,\n        \"num_unique_values\": 8,\n        \"samples\": [\n          88108.50476190477,\n          33000.0,\n          7665.0\n        ],\n        \"semantic_type\": \"\",\n        \"description\": \"\"\n      }\n    },\n    {\n      \"column\": \"budget\",\n      \"properties\": {\n        \"dtype\": \"number\",\n        \"std\": 119485795.99274477,\n        \"min\": 3000.0,\n        \"max\": 356000000.0,\n        \"num_unique_values\": 8,\n        \"samples\": [\n          35589876.192650534,\n          20500000.0,\n          5497.0\n        ],\n        \"semantic_type\": \"\",\n        \"description\": \"\"\n      }\n    },\n    {\n      \"column\": \"gross\",\n      \"properties\": {\n        \"dtype\": \"number\",\n        \"std\": 990876277.0578129,\n        \"min\": 309.0,\n        \"max\": 2847246203.0,\n        \"num_unique_values\": 8,\n        \"samples\": [\n          78500541.01778312,\n          20205757.0,\n          7479.0\n        ],\n        \"semantic_type\": \"\",\n        \"description\": \"\"\n      }\n    },\n    {\n      \"column\": \"runtime\",\n      \"properties\": {\n        \"dtype\": \"number\",\n        \"std\": 2668.1393933664854,\n        \"min\": 18.581247313480567,\n        \"max\": 7664.0,\n        \"num_unique_values\": 8,\n        \"samples\": [\n          107.2616127348643,\n          104.0,\n          7664.0\n        ],\n        \"semantic_type\": \"\",\n        \"description\": \"\"\n      }\n    }\n  ]\n}"
            }
          },
          "metadata": {},
          "execution_count": 11
        }
      ],
      "source": [
        "movies_data.describe()"
      ]
    },
    {
      "cell_type": "markdown",
      "metadata": {
        "id": "SE2vAQvmBcuQ"
      },
      "source": [
        "Used to check for missing values in the dataset"
      ]
    },
    {
      "cell_type": "code",
      "execution_count": 12,
      "metadata": {
        "id": "bksWBjbkAfEX",
        "colab": {
          "base_uri": "https://localhost:8080/",
          "height": 554
        },
        "outputId": "818a2fb5-13d1-4d87-c53e-d029beeab39f"
      },
      "outputs": [
        {
          "output_type": "execute_result",
          "data": {
            "text/plain": [
              "name           0\n",
              "rating        77\n",
              "genre          0\n",
              "year           0\n",
              "released       2\n",
              "score          3\n",
              "votes          3\n",
              "director       0\n",
              "writer         3\n",
              "star           1\n",
              "country        3\n",
              "budget      2171\n",
              "gross        189\n",
              "company       17\n",
              "runtime        4\n",
              "dtype: int64"
            ],
            "text/html": [
              "<div>\n",
              "<style scoped>\n",
              "    .dataframe tbody tr th:only-of-type {\n",
              "        vertical-align: middle;\n",
              "    }\n",
              "\n",
              "    .dataframe tbody tr th {\n",
              "        vertical-align: top;\n",
              "    }\n",
              "\n",
              "    .dataframe thead th {\n",
              "        text-align: right;\n",
              "    }\n",
              "</style>\n",
              "<table border=\"1\" class=\"dataframe\">\n",
              "  <thead>\n",
              "    <tr style=\"text-align: right;\">\n",
              "      <th></th>\n",
              "      <th>0</th>\n",
              "    </tr>\n",
              "  </thead>\n",
              "  <tbody>\n",
              "    <tr>\n",
              "      <th>name</th>\n",
              "      <td>0</td>\n",
              "    </tr>\n",
              "    <tr>\n",
              "      <th>rating</th>\n",
              "      <td>77</td>\n",
              "    </tr>\n",
              "    <tr>\n",
              "      <th>genre</th>\n",
              "      <td>0</td>\n",
              "    </tr>\n",
              "    <tr>\n",
              "      <th>year</th>\n",
              "      <td>0</td>\n",
              "    </tr>\n",
              "    <tr>\n",
              "      <th>released</th>\n",
              "      <td>2</td>\n",
              "    </tr>\n",
              "    <tr>\n",
              "      <th>score</th>\n",
              "      <td>3</td>\n",
              "    </tr>\n",
              "    <tr>\n",
              "      <th>votes</th>\n",
              "      <td>3</td>\n",
              "    </tr>\n",
              "    <tr>\n",
              "      <th>director</th>\n",
              "      <td>0</td>\n",
              "    </tr>\n",
              "    <tr>\n",
              "      <th>writer</th>\n",
              "      <td>3</td>\n",
              "    </tr>\n",
              "    <tr>\n",
              "      <th>star</th>\n",
              "      <td>1</td>\n",
              "    </tr>\n",
              "    <tr>\n",
              "      <th>country</th>\n",
              "      <td>3</td>\n",
              "    </tr>\n",
              "    <tr>\n",
              "      <th>budget</th>\n",
              "      <td>2171</td>\n",
              "    </tr>\n",
              "    <tr>\n",
              "      <th>gross</th>\n",
              "      <td>189</td>\n",
              "    </tr>\n",
              "    <tr>\n",
              "      <th>company</th>\n",
              "      <td>17</td>\n",
              "    </tr>\n",
              "    <tr>\n",
              "      <th>runtime</th>\n",
              "      <td>4</td>\n",
              "    </tr>\n",
              "  </tbody>\n",
              "</table>\n",
              "</div><br><label><b>dtype:</b> int64</label>"
            ]
          },
          "metadata": {},
          "execution_count": 12
        }
      ],
      "source": [
        "movies_data.isnull().sum()"
      ]
    },
    {
      "cell_type": "markdown",
      "metadata": {
        "id": "KXdv4YN8A4Cg"
      },
      "source": [
        "We have several missing values in our dataset in the different variables"
      ]
    },
    {
      "cell_type": "markdown",
      "metadata": {
        "id": "C8VV1BNUQAQY"
      },
      "source": [
        "We are gonna handle this missing values by replacing the missing values with the median of the columns because comparing the mean and the median of most of the columns they indicate a skewness to the right meaning if we use the mean it might influence the outcome of the analysis and might not be as accurate as using the median."
      ]
    },
    {
      "cell_type": "code",
      "execution_count": 13,
      "metadata": {
        "id": "skVLqK92wk_K"
      },
      "outputs": [],
      "source": [
        "# Imputing the missing values in 'score', 'votes', 'budget', 'gross', and 'runtime' with median\n",
        "columns_to_impute = ['score', 'votes', 'budget', 'gross', 'runtime']\n",
        "\n",
        "for col in columns_to_impute:\n",
        "    median_value = movies_data[col].median()\n",
        "    movies_data[col] = movies_data[col].fillna(median_value)"
      ]
    },
    {
      "cell_type": "code",
      "execution_count": 14,
      "metadata": {
        "id": "gvMqItoJxXBr"
      },
      "outputs": [],
      "source": [
        "#getting the mode\n",
        "rating_mode = movies_data['rating'].mode().iloc[0]\n",
        "#filling for the rating column\n",
        "movies_data['rating'] = movies_data['rating'].fillna(rating_mode)\n",
        "#getting the mode\n",
        "released_mode = movies_data['released'].mode().iloc[0]\n",
        "#filling for the released column\n",
        "movies_data['released'] = movies_data['released'].fillna(released_mode)\n",
        "#getting the mode\n",
        "writer_mode = movies_data['writer'].mode().iloc[0]\n",
        "#filling for the released column\n",
        "movies_data['writer'] = movies_data['writer'].fillna(writer_mode)\n",
        "#getting the mode\n",
        "star_mode = movies_data['star'].mode().iloc[0]\n",
        "#filling for the released column\n",
        "movies_data['star'] = movies_data['star'].fillna(star_mode)\n",
        "#getting the mode\n",
        "country_mode = movies_data['country'].mode().iloc[0]\n",
        "#filling for the released column\n",
        "movies_data['country'] = movies_data['country'].fillna(country_mode)\n",
        "#getting the mode\n",
        "company_mode = movies_data['company'].mode().iloc[0]\n",
        "#filling for the released column\n",
        "movies_data['company'] = movies_data['company'].fillna(company_mode)"
      ]
    },
    {
      "cell_type": "markdown",
      "metadata": {
        "id": "HgFU-K4Q0URm"
      },
      "source": [
        "Fillna was used to handle and fill in all missing values in the columns of the dataset"
      ]
    },
    {
      "cell_type": "markdown",
      "metadata": {
        "id": "91ZHyHZSwque"
      },
      "source": [
        "To check if we still have missing values"
      ]
    },
    {
      "cell_type": "code",
      "execution_count": 15,
      "metadata": {
        "id": "EZWk0ZfOwwTk",
        "colab": {
          "base_uri": "https://localhost:8080/",
          "height": 554
        },
        "outputId": "a997362d-e05e-421c-b4fc-1c2b03e83add"
      },
      "outputs": [
        {
          "output_type": "execute_result",
          "data": {
            "text/plain": [
              "name        0\n",
              "rating      0\n",
              "genre       0\n",
              "year        0\n",
              "released    0\n",
              "score       0\n",
              "votes       0\n",
              "director    0\n",
              "writer      0\n",
              "star        0\n",
              "country     0\n",
              "budget      0\n",
              "gross       0\n",
              "company     0\n",
              "runtime     0\n",
              "dtype: int64"
            ],
            "text/html": [
              "<div>\n",
              "<style scoped>\n",
              "    .dataframe tbody tr th:only-of-type {\n",
              "        vertical-align: middle;\n",
              "    }\n",
              "\n",
              "    .dataframe tbody tr th {\n",
              "        vertical-align: top;\n",
              "    }\n",
              "\n",
              "    .dataframe thead th {\n",
              "        text-align: right;\n",
              "    }\n",
              "</style>\n",
              "<table border=\"1\" class=\"dataframe\">\n",
              "  <thead>\n",
              "    <tr style=\"text-align: right;\">\n",
              "      <th></th>\n",
              "      <th>0</th>\n",
              "    </tr>\n",
              "  </thead>\n",
              "  <tbody>\n",
              "    <tr>\n",
              "      <th>name</th>\n",
              "      <td>0</td>\n",
              "    </tr>\n",
              "    <tr>\n",
              "      <th>rating</th>\n",
              "      <td>0</td>\n",
              "    </tr>\n",
              "    <tr>\n",
              "      <th>genre</th>\n",
              "      <td>0</td>\n",
              "    </tr>\n",
              "    <tr>\n",
              "      <th>year</th>\n",
              "      <td>0</td>\n",
              "    </tr>\n",
              "    <tr>\n",
              "      <th>released</th>\n",
              "      <td>0</td>\n",
              "    </tr>\n",
              "    <tr>\n",
              "      <th>score</th>\n",
              "      <td>0</td>\n",
              "    </tr>\n",
              "    <tr>\n",
              "      <th>votes</th>\n",
              "      <td>0</td>\n",
              "    </tr>\n",
              "    <tr>\n",
              "      <th>director</th>\n",
              "      <td>0</td>\n",
              "    </tr>\n",
              "    <tr>\n",
              "      <th>writer</th>\n",
              "      <td>0</td>\n",
              "    </tr>\n",
              "    <tr>\n",
              "      <th>star</th>\n",
              "      <td>0</td>\n",
              "    </tr>\n",
              "    <tr>\n",
              "      <th>country</th>\n",
              "      <td>0</td>\n",
              "    </tr>\n",
              "    <tr>\n",
              "      <th>budget</th>\n",
              "      <td>0</td>\n",
              "    </tr>\n",
              "    <tr>\n",
              "      <th>gross</th>\n",
              "      <td>0</td>\n",
              "    </tr>\n",
              "    <tr>\n",
              "      <th>company</th>\n",
              "      <td>0</td>\n",
              "    </tr>\n",
              "    <tr>\n",
              "      <th>runtime</th>\n",
              "      <td>0</td>\n",
              "    </tr>\n",
              "  </tbody>\n",
              "</table>\n",
              "</div><br><label><b>dtype:</b> int64</label>"
            ]
          },
          "metadata": {},
          "execution_count": 15
        }
      ],
      "source": [
        "movies_data.isnull().sum()"
      ]
    },
    {
      "cell_type": "markdown",
      "metadata": {
        "id": "_8pPaDA7zyhk"
      },
      "source": [
        "I have filled all missing values in our dataset for the numerical values I filled with the median and for the categorical columns I filled using the mode."
      ]
    },
    {
      "cell_type": "code",
      "execution_count": 16,
      "metadata": {
        "id": "zb7tQBO3A2uO",
        "colab": {
          "base_uri": "https://localhost:8080/"
        },
        "outputId": "55883685-0b19-44c7-bb3b-bf49ce065ac6"
      },
      "outputs": [
        {
          "output_type": "execute_result",
          "data": {
            "text/plain": [
              "0"
            ]
          },
          "metadata": {},
          "execution_count": 16
        }
      ],
      "source": [
        "movies_data.duplicated().sum()"
      ]
    },
    {
      "cell_type": "markdown",
      "metadata": {
        "id": "YMVnKjnMA3Ml"
      },
      "source": [
        "there are no duplicates in our dataset"
      ]
    },
    {
      "cell_type": "markdown",
      "metadata": {
        "id": "w-nXLEYkUNLe"
      },
      "source": [
        "Data Exploration and Analysis"
      ]
    },
    {
      "cell_type": "code",
      "execution_count": 19,
      "metadata": {
        "id": "CeavZYlTUMiX",
        "colab": {
          "base_uri": "https://localhost:8080/",
          "height": 738
        },
        "outputId": "07f40e55-1bcb-436d-bac4-34e4ddef68c6"
      },
      "outputs": [
        {
          "output_type": "stream",
          "name": "stdout",
          "text": [
            "genre\n",
            "Comedy       2245\n",
            "Action       1705\n",
            "Drama        1518\n",
            "Crime         551\n",
            "Biography     443\n",
            "Adventure     427\n",
            "Animation     338\n",
            "Horror        322\n",
            "Fantasy        44\n",
            "Mystery        20\n",
            "Name: count, dtype: int64\n"
          ]
        },
        {
          "output_type": "display_data",
          "data": {
            "text/plain": [
              "<Figure size 640x480 with 1 Axes>"
            ],
            "image/png": "[encoded data removed]"
          },
          "metadata": {}
        }
      ],
      "source": [
        "#Genre Analysis -here we are analyzing the distribution of movie genres and identifying popular genres over time.\n",
        "genre_counts = movies_data['genre'].str.split('|').explode().value_counts()\n",
        "\n",
        "# Outputs the top 10 genres\n",
        "print(genre_counts.head(10))\n",
        "\n",
        "# Bar graph to shop n genre distribution\n",
        "genre_counts.plot(kind='bar', title='Distribution of Movie Genres')\n",
        "plt.xlabel('Genre')\n",
        "plt.ylabel('Count')\n",
        "plt.show()"
      ]
    },
    {
      "cell_type": "markdown",
      "source": [
        "Observations from the bar graph\n",
        "- Comedy is the most popular genre, with over 2000 movies.\n",
        "- Action and Drama Follow being the next most popular genres, with around 1500 and 1500 movies.\n",
        "- Niche Genres: Genres like Fantasy, Mystery, Thriller, Family, Romance, Western, Music, History, and Sport have relatively low counts, suggesting they are niche genres compared to Comedy, Action, and Drama."
      ],
      "metadata": {
        "id": "DsZPMaeLizRE"
      }
    },
    {
      "cell_type": "code",
      "source": [
        "movies_data_expanded = movies_data.explode('genre')\n",
        "\n",
        "#pivot table to count genres by year\n",
        "genre_trends = movies_data_expanded.pivot_table(\n",
        "    index='year', columns='genre', aggfunc='size', fill_value=0\n",
        ")\n",
        "\n",
        "# Visualize genre trends over time\n",
        "genre_trends.plot(kind='line', title='Genre Trends Over Time')\n",
        "plt.xlabel('Year')\n",
        "plt.ylabel('Count')\n",
        "plt.show()\n"
      ],
      "metadata": {
        "colab": {
          "base_uri": "https://localhost:8080/",
          "height": 489
        },
        "id": "ROh1_oFojiBw",
        "outputId": "542f8ad7-be0d-41bd-f9ef-950d4dece153"
      },
      "execution_count": 23,
      "outputs": [
        {
          "output_type": "display_data",
          "data": {
            "text/plain": [
              "<Figure size 640x480 with 1 Axes>"
            ],
            "image/png": "[encoded data removed]"
          },
          "metadata": {}
        }
      ]
    },
    {
      "cell_type": "markdown",
      "source": [
        "Observations from the data\n",
        "- Comedy, Action, and Drama have remained consistently popular throughout the decades.\n",
        "- Adventure, Animation, and Biography have seen a significant increase in popularity, especially in recent years.\n",
        "-  Crime, Family, Fantasy, History, Horror, Music, Musical, Mystery, Romance, Sci-Fi, Thriller, and Western have no constant rise or decline but generally show a decline in popularity compared to their peak periods."
      ],
      "metadata": {
        "id": "CYpNBHTVkweP"
      }
    },
    {
      "cell_type": "code",
      "execution_count": 20,
      "metadata": {
        "id": "Quc3s2FV9oTW",
        "colab": {
          "base_uri": "https://localhost:8080/",
          "height": 602
        },
        "outputId": "d1f45602-4ab3-4358-f4fd-9ce078c4ca94"
      },
      "outputs": [
        {
          "output_type": "error",
          "ename": "TypeError",
          "evalue": "Could not convert string 'RRPGPGRRRRPGRPGPGPGRRPGRPGRRRRPGPGPGRRPGRRPGRPGPGPGRRRPGPGPGPGRRRRRRPGPGPGRPGPGRPGPGPGRPGGPGRPGPGPGPGPGRPGPGGPGPGRGPGRRPGRRPGNot RatedPGRRRRPGRRPGRRRNC-17RRPGRRRRRPGRRPGPGRRPGRPGPGPGGPGPGApprovedPGPGPGPGRRRPGRRRRRRPGRRPGRRRRRRRRRGRPGRRRRRRRRRRPGRRRRPGPGPGPGPGRRPGRRPGPGRRRRRRRPGRPGRRPGRPGRRPGPGPGRPGRTV-PGRNot RatedPGRRRRPGRRPGPGPGRPGRRRPGPGPGGPGPGPGRPGRRRRPGRPGRNot RatedRPGRRRPGRRPGGRPGPGRPGRRRPGRPGRPGRRPGPGPGPGRPGRPGPGRRPGRPGRPGRRPGPGRPGRRPGRRRPGPGRRRRPGRRRRPGPGRRRRNot RatedPGRPGPGRPGRRGRPGPGGRNot RatedNot RatedGRRPGPGRRPGPGRRRPGRPGPGRRRPGPGPGRRPGRRRRPGPGPGPGRRRPGRRRPGRRRRRPGPGPGPGRNot RatedRPGRRPGPGRRPGRRRRPGRRRRRRPGPGPGRPGPGPGGPGPGPGRRPGPGRRPGRRPGRRRPGRPGRRRRRPGRPGRRPGPGPGPGRRRRPGRRPGPGPGPGRRPGPGPGRPGRRPGPGRPGRRRRRNot RatedPGPGRNot RatedNot RatedPGRRPG-13PGPGRRPGRRPGRPG-13PGPGRPGPGPGPGRRRPGPGRPGPGRPGRRRRRPGPGRRPG-13PG-13PGPGRPGRRPGPG-13RPG-13RPGPGRPGRPGPGRRRPGRPGGRPG-13RPGRRPG-13PGPGPGRRPGRRRRPGPG-13RPGPGRPGPG-13PGRRRRRRRPGPG-13RPGPGPGRPGPGRPGRRRRPG-13Not RatedRRPGRPG-13PGRPGRRRRPGRPG-13PG-13PGPGRPGRRNot RatedPG-13PGPGRPGRPGRPGRPGPGRRRPGGPGRRPGRRNot RatedPG-13RRNot RatedPG-13RPG-13PGPGRPGRPG-13RPG-13PGRRRRPGPGRRPG-13PG-13PGPGRPG-13Not RatedPG-13RPGRPG-13RPGPGRRPGRPGPGNot RatedPG-13PG-13PGRPG-13PGRRUnratedPGPG-13PG-13PG-13PGRRPG-13RRPGPG-13RPG-13RPG-13PG-13RRRRPG-13PG-13RRRRNot RatedRRPGPGRPG-13PG-13PG-13RPG-13PGRPGPG-13RPG-13RRRRPGRPG-13PGPGUnratedPGPG-13RRRRPGRRPG-13RRPGRPG-13RPG-13PG-13RPGRPG-13PGGRPG-13PG-13PGRPG-13PGRRRPG-13Not RatedRGRRNot RatedRPGPGPGRGPGRRRPG-13GRRRRRPG-13PGPGPGPG-13RRGRPG-13RPGRRRPGRPG-13PG-13PGPG-13RPGPGRRPG-13RPG-13PG-13GPGNot RatedPGRRPG-13PGRPGRRPG-13PG-13PGRPG-13PG-13RRRPGRPG-13PGPGRRPG-13PGPGRRPG-13RPGRPGRPG-13PGUnratedRPGRPG-13RPGPG-13UnratedRPG-13UnratedPG-13PGRRUnratedRPGRPGRPGGPGRPG-13GRPGRPG-13RPGRRRRRRRPG-13RPG-13UnratedRPGGRRPGNC-17RRRPG-13RPG-13PG-13PGRPG-13RPG-13RRPG-13PG-13RPGRPG-13PG-13PGNot RatedRRPGRRRPGRPGRRRRPGRPGPGPG-13PGPG-13RPGPGRRRPG-13RPG-13PG-13PG-13RXPG-13RRRPGRRRPG-13RPGRRPGRPG-13RRRPG-13PG-13PG-13PG-13RPG-13Not RatedRRGPG-13PG-13PGRRPG-13PGRRRPGGRRPGRRGPGPG-13RRRRRPGPGPG-13RRPGPGRRRRPG-13PG-13RPGPG-13RRPGPGRRPGRRPG-13RRXPGPG-13RRRRPG-13PGRPGPG-13RRPG-13PGPGPGPG-13RPGPG-13PG-13PG-13RPG-13RRPGRPGRPGPG-13PGPGPG-13PG-13RPGPGPGPG-13PGRRPG-13RRRPGPG-13PGRPG-13RPG-13RRGPGPGPGPGPG-13RPGRPG-13RRPGRPG-13PG-13PGRRRPGRPG-13PG-13RRGPG-13RPG-13PGPGRPGPGPG-13RPGRPG-13RRRPG-13RRPGRRPGNot RatedRRRPGRRRRRRRRRRPGPGRRPG-13RPGRRNot RatedPGRRRPG-13RRPGRRRPG-13RRPG-13PGRRPGGPG-13RRPG-13PGRPG-13RRPGRPGRRRRPGRPGRRPGPGPG-13RRPGPGRPG-13RPGPGRRPGRRPGRRPGPG-13PGRGRRRRRRGRRRPGPGRRPGRRGRPG-13RRPGPGPG-13RPG-13PGRPG-13RRRPGRPG-13RRRPG-13PG-13RPG-13RRGPGPGRRPG-13PGRRPG-13PGPGPGRPGNot RatedRPGRRRPGRRRPGRRRRRPGRRRRPG-13PG-13RRRRPGPG-13PGRPG-13RRPG-13PGRPGPGPG-13RRRRPG-13Not RatedPGRPGRRPGPGRRPGRRRRRRPGRRPG-13RPGRPG-13PG-13RPGRPGPG-13RRPG-13RRPGRRPGPGRPGRRPG-13RPG-13RPG-13PGRRRRPGRPG-13RRPG-13RPGRPG-13PGPG-13PG-13RRRRRPG-13RPG-13PGPGPGGPG-13PGRPGPGPG-13PGRRRPGRPGPGRRRPG-13RPG-13PGPG-13PG-13RRRXRRRRRRRPGPGPG-13PG-13PGNC-17GRPGRPG-13RRRPGPGRRPG-13RRRRPG-13PG-13PG-13PGRPG-13RRRRRRPG-13RRRPG-13PGRPG-13PG-13RPG-13PG-13RPGPG-13PGPG-13RGRPG-13PGPG-13RPG-13RPG-13RPG-13RPG-13PGPGRPG-13PG-13PGPG-13RPG-13RRPG-13PG-13RRPGPGRPG-13RRGPGPG-13RRPG-13RRRRRRRPG-13PG-13Not RatedRPG-13RPG-13PGRRRRRRRRRRRRPG-13PG-13RPG-13RPG-13RRRPG-13RPGPG-13RRRGPG-13GRRRRPGRRRPG-13PG-13RPG-13RPGRPGPGPG-13RRRRRRPGPG-13PG-13PG-13RRPG-13RPGPG-13PGPGPG-13RRRRPGRPGRRPG-13RPG-13PG-13RPG-13PG-13PG-13RRRRPG-13RPGRRNot RatedRPG-13RRRRPGPGRPG-13GRRRRRNC-17RRPGPGPG-13RRRRPG-13PG-13RRRPGRRRRRNot RatedRRPG-13PGRRRRRRRRPG-13RPG-13PGRRPG-13PG-13RPGPGRPGRGRRGPGPGRRRRRPG-13PG-13RPG-13RPG-13PG-13RRRPG-13PG-13RRPGPG-13PGPGRRPG-13RRRPG-13RPG-13RRPG-13RPG-13PGPGPG-13RPG-13PGRRRRGPG-13RPG-13PG-13RPGPGRRNot RatedRPG-13RRRUnratedPGPG-13RRPGPG-13PG-13PG-13PG-13PG-13RRRRPG-13RRPG-13RPGPG-13Not RatedRRRPGRRPG-13PG-13RRPG-13RGPG-13RPGPGRPGPGPG-13PG-13RRRUnratedPG-13RPGRPG-13PG-13RRRPG-13PGRPGPG-13RRPG-13RRRRPG-13RPG-13RRRRPGRRRGRRRPG-13PGPG-13PG-13RRPG-13RRRPGRGPG-13RRRRPG-13PGRPGGPG-13PGRRPGRPG-13PG-13RPGPGRRPG-13PG-13PG-13RRNC-17RRPGRRRPGPG-13RRRRPG-13PG-13RPG-13PGRRRPG-13UnratedPGPGRRPG-13RRRRGRPGRRPGPG-13RRRRPG-13RRRPGRRRRRRPG-13RPG-13RPGNot RatedRPGRRRRPG-13PGGRPG-13TV-PGRNot RatedRRPG-13PG-13PG-13PGRRRRPG-13RRRRRPGRRPGPG-13RRRRRRRRRRPGRRPG-13PGGPGRPG-13PG-13RPGRRRPG-13RPG-13RPGRPG-13PGRPG-13RPG-13RPGRPGPG-13RRRPG-13RRPGRRRRRRNC-17PG-13GPGPG-13RRRPGNC-17PGRRPGPG-13PGRRRPG-13PG-13PGRPG-13RRGPG-13RPG-13PGRPG-13RPGPG-13PG-13RPG-13RRPG-13RRPGRRPGPGRRPG-13PG-13RRRPG-13PG-13PG-13RPG-13RPG-13RRRRPG-13RPG-13PG-13RGRNC-17PG-13RRRRRRRRRRRRPG-13UnratedRPG-13RRPG-13RRPGRPG-13UnratedPG-13Not RatedRRRPGPG-13PG-13PGNot RatedPG-13RPG-13RUnratedRRPG-13Not RatedRRRNot RatedNot RatedPG-13RPGPGRRRPG-13RPG-13RPG-13PG-13RPG-13PG-13RRPGRPG-13PG-13RPGPG-13RRRNot RatedPG-13RPG-13PGRPG-13PG-13RPGRPG-13RPG-13PGPGPG-13PGPGRRPGPGRRRPG-13RRPGRPGPGGGPGPG-13PGRPG-13PGPG-13RPGRPGPGPG-13PG-13PG-13RPG-13RRPG-13PG-13RRRRPG-13RRPGRPGRPGPGRRPG-13PG-13RRRRPGPGRNot RatedPGPG-13RRPG-13PGPG-13RRNot RatedPG-13PGPG-13PG-13PG-13RRRPG-13RRRPGRRPG-13RGRRRRPGPGPGRPGPG-13RRRPG-13PG-13RPG-13PGPG-13RPG-13RPG-13GRRPG-13RPGRGPG-13RNot RatedUnratedNC-17PG-13PGPG-13PG-13PG-13PG-13RRPGPGRRPG-13PG-13Not RatedRPG-13RRRRPG-13PGRUnratedPG-13RRPGRUnratedRPG-13RPG-13PG-13PG-13PGRGPG-13Not RatedRPG-13RRPG-13PGRRRPG-13RRGPG-13RPG-13PGPG-13RRRRRPGPG-13PGPG-13PG-13PG-13PGRRPGPGPG-13RRPGRPGRPGRPGRPG-13PG-13RRPG-13RPGPG-13PG-13RPGRRPGRPG-13PGPGPGRRRRPGPGRPGRGRRRPG-13RPG-13PG-13RPGPG-13RPGRRPGNot RatedPG-13RPGGPG-13RPG-13PGPG-13PG-13RRPG-13PGRPG-13PG-13PGPGRRRRPG-13UnratedRRRPGGRPG-13PG-13PG-13PG-13RRRNot RatedPG-13PG-13RRPGPG-13RRRRPG-13PG-13GPGRGNot RatedPGPG-13RPG-13PGRPGPGPG-13RRPG-13RPGRPGPGRRPG-13RRPG-13PG-13RRPGRPGRPG-13PG-13RPGGRPG-13PGPG-13RRRPG-13Not RatedRPGRRPGRPG-13RPG-13PG-13PGPGPGNot RatedRRRRPG-13RRPGRPGRPG-13PG-13NC-17GRRPG-13RRRNC-17RRPGPG-13RRPG-13PGPG-13RRRPG-13RPG-13Not RatedPGPG-13PGRPG-13GGRRRPGTV-MAPGRPG-13GRPG-13RRPG-13RPG-13RRRPG-13PG-13GPG-13RRPGRRPG-13RPG-13RPGRRPGRPG-13PG-13PGRRPGRRPGRRPG-13RRPG-13RPG-13PGRRPG-13RRRRRPGRRUnratedNot RatedRGRRRRRRPGRRPG-13RRPG-13PGRRRRRPGRPGRRRPGRRRPG-13RPG-13RPG-13PG-13RRNot RatedRRRPG-13Not RatedNot RatedPGPGRRRPG-13RRPG-13RPGRRGPGPGRUnratedRNot RatedRRPG-13RPG-13RRUnratedPG-13PG-13PGPGRRTV-MAPGPG-13RPG-13RPGRRRPGPG-13PG-13RRRRPG-13PGRPG-13PG-13GNC-17RRRRRPG-13RRRRRRRPG-13RPGPG-13PG-13GRRRPG-13RRRPG-13RRRPG-13PG-13RRRPGRPGPG-13RPG-13PG-13PG-13PGRPGPG-13UnratedPG-13Not RatedRRPG-13RPG-13RPG-13PGRRRPGRRRRRRPGPG-13PGRPGRRPG-13PG-13RPGRRPGPGPGPGRRPG-13RPG-13PG-13PGRPG-13RRPG-13GRRRRRRRRNot RatedPG-13PG-13RRPG-13RRGPG-13PG-13GPGPGRRPG-13RPGPGRPG-13RRRRRPG-13PGPGPGPG-13PG-13PG-13RPGPG-13RNot RatedGRRRPGRPG-13PGRRRRGRPG-13PGPG-13RPGRRPG-13Not RatedRPGPG-13PG-13PGPG-13RRPG-13RPGRRRRRPG-13PGRRPG-13PG-13PG-13RRRRRRRPG-13PGPG-13PGRPG-13RGPG-13PG-13PG-13RRPG-13PG-13PG-13RRRPG-13RPGGPG-13RPGRRPG-13PG-13PG-13PG-13PG-13RRPG-13RPG-13RRPG-13RRRRRRRRPGRRRRPG-13RPG-13PGPGRPGRPG-13PG-13RPGRRPG-13RPGNC-17RRPGRRRPG-13RNot RatedRRPGPG-13RRPG-13RRPGRPGRPG-13RPG-13Not RatedRRPGRPG-13RPGRRRRRRRRRPG-13RPGPGRRNC-17RPGRRRNot RatedRRRPG-13PGPG-13RPGRPGPG-13PG-13PG-13PGPG-13RPG-13GRRRPG-13PGPG-13RRPGNot RatedRRUnratedPGPGRPGRRPG-13PGRRRPG-13RPG-13RRRRPG-13RRRRRRPGRRPG-13RRRRRPGPG-13RPGRRPG-13PG-13PG-13RPG-13RRGRGPG-13RPG-13PGPG-13RPG-13RRPG-13PG-13RPG-13PG-13RPGPG-13PG-13PG-13PGPG-13RRRRRPG-13RRPG-13UnratedPG-13PG-13PG-13PG-13RRRRRPG-13PG-13RRRRRRPG-13RRPGRRRRNot RatedRPG-13RRRNot RatedRPG-13RPG-13RPG-13RRRNot RatedNot RatedRPG-13RPG-13RRRPGRRPG-13RRPGRRGRPG-13PGPGUnratedRGNot RatedRPG-13PG-13PG-13RPGRRRPGPGPG-13RPG-13PG-13RPG-13RGRRRPG-13RPG-13RRPG-13PGRPG-13RRRRPG-13RPGRRRRRRPG-13PGNot RatedGRPGRRRPG-13RRRRPGNot RatedPGRRUnratedRRPG-13RRRRPGPGRRPG-13RRRPG-13Not RatedRRRRPG-13RRRPGPG-13PG-13PG-13RPGPG-13RRRRRPGRRRPG-13RRGRGRRPGPG-13UnratedPG-13PG-13PG-13RRRRRRRRPG-13RRRRPG-13RRRRRPG-13PGPG-13RPG-13RRRRRGRPG-13RRRRNot RatedRPG-13PG-13RNot RatedRPG-13PGPGRPGRRRPG-13PG-13RPG-13RPG-13PG-13RRPG-13RRPG-13RPG-13RRRPG-13RRRRPG-13Not RatedRRPGPGUnratedPG-13RRPG-13RRPG-13Not RatedGRRGNot RatedRRRRRGRRRPGPG-13RPG-13PG-13PGRRGPG-13PG-13PG-13PG-13RPGRPG-13RPG-13RRRPG-13RPG-13PGPG-13PG-13RRPG-13PG-13Not RatedRRRPG-13RRRGRPGRRRRRNot RatedPG-13RRRRGRPG-13RRRRRRUnratedRRPG-13RPG-13PG-13PG-13PG-13RRPG-13PG-13RRPG-13PGPG-13PG-13PG-13GRRRRPGPG-13GPG-13PG-13PG-13PG-13RRNot RatedPG-13RPG-13RPG-13RPG-13RRRPG-13PG-13PGRPGPGRPG-13RPG-13PGPG-13RRPG-13RPG-13PG-13RPG-13PG-13PG-13PGRPG-13PG-13PGNot RatedRRGPG-13PG-13RRRPG-13PG-13PGPGRPG-13RPG-13PG-13RPG-13PG-13RRRPG-13RPGPG-13PG-13Not RatedPG-13PG-13PG-13PG-13RPGRPG-13RRRRGRPGPG-13PG-13RPG-13RRRPG-13RUnratedRRRNot RatedNot RatedRRRRRRPG-13RRRRRRPG-13RRRRPGUnratedUnratedNot RatedRRRRRRRGNot RatedRRNot RatedPGNot RatedPG-13PG-13RRRPGPG-13PG-13RGRRRRRRPGRRPGNot RatedRRRPG-13Not RatedRPG-13PGPG-13PG-13PG-13RGPGRRRPG-13PGRPG-13PG-13PG-13RRRPG-13RRPG-13RRGPG-13RRPG-13PG-13PG-13PGPG-13PG-13RPG-13PG-13PG-13RRRRTV-MARPG-13RRPGPG-13UnratedTV-MARPG-13RRRPG-13RRRPG-13PG-13PG-13PG-13PG-13RRRRRRRRPGRPG-13RRPG-13RRRPGNot RatedPG-13PG-13PG-13PG-13RPG-13RRPG-13RRPG-13PG-13RRRRRPG-13PG-13RPG-13RPG-13PG-13RPGGPG-13PG-13RPG-13RRPGPGRPG-13PG-13RPG-13PGPG-13PG-13RRRNot RatedPG-13RRRPGRRRRRPG-13RRNot RatedRRRPG-13RRRRRPGNot RatedPGUnratedRPG-13PG-13RRRRPG-13PG-13RRRUnratedRRRPG-13PG-13PG-13PG-13PG-13RPGRPG-13RPG-13RPG-13RRNot RatedPG-13RGPGRRPG-13PG-13PG-13PG-13RRPGPG-13RRPG-13RRNot RatedPG-13PG-13PG-13PGRPGPG-13PG-13PG-13RRPGPG-13PG-13PG-13RRPGRRPG-13PGPG-13PGPGPGRRPG-13RPG-13RPG-13PG-13PG-13PG-13PG-13RRPG-13GRRRPG-13RPG-13PG-13PG-13PG-13RRPG-13RRRUnratedPG-13PG-13PG-13Not RatedPG-13PG-13RRPG-13PGRPG-13PG-13PG-13RUnratedRPG-13PG-13PG-13RPG-13RPGRPGPG-13RRRRPG-13PGPGGRRPGRRPG-13PG-13PG-13RRPG-13PG-13RRPG-13PG-13PGRRPG-13RPG-13RPG-13PG-13RPG-13RRRRRRPG-13PG-13PGRRPG-13RRRRPGPG-13RRPGRGRRRGRPG-13RRPGRGNot RatedRRRRPG-13RRRPGPG-13RPG-13RPG-13PG-13PG-13PG-13RRRRPG-13RGPG-13RRPG-13PGPG-13RRRRRPG-13PG-13RRRRPG-13RRRPGPG-13RNC-17Not RatedGPG-13PG-13RRPG-13RPGRRPG-13PG-13RRRPG-13RPGPG-13PG-13PG-13RRRRRPGRPGPG-13PG-13PG-13PGRRPG-13RPG-13RPGPGPG-13PG-13PG-13PG-13RPG-13PG-13PGGNot RatedRRRPG-13PGRPG-13PG-13PG-13RPG-13RPG-13RPG-13PGRPG-13PG-13PG-13PG-13RPG-13RRPGPG-13PG-13PG-13RPGPGRPG-13RRRRRRPG-13RPGRRPG-13PGRRPG-13PG-13RPG-13Not RatedPG-13PG-13PGNot RatedPGPG-13RNC-17PG-13Not RatedPG-13PG-13RUnratedPG-13RPG-13RRRRPG-13PG-13PG-13RPG-13RRRPG-13PG-13PG-13RPG-13RRRPG-13PGPG-13RRPG-13GPG-13PG-13RRPGRPG-13RPG-13RRRRRRRRRRPGPG-13PG-13PGPG-13RNot RatedRPG-13RPGRPG-13RPG-13RRRPG-13PG-13PG-13PGRRRPG-13PG-13PG-13PGRRPG-13PG-13RPG-13PGPG-13PG-13RPG-13RRPG-13RPGPG-13RRPG-13PGRPG-13RRRPG-13PG-13PG-13RPGRPG-13RPGRRNot RatedRPG-13PG-13RRPG-13PG-13RPG-13PG-13PGRPGPG-13PGPG-13Not RatedPGPGRPG-13RRPG-13RGRPG-13RRPG-13PG-13PG-13PG-13PG-13PGRPGPG-13PGPG-13PGGPG-13PGRUnratedPGPG-13PG-13PG-13RPG-13RPGPG-13PGPGPG-13PG-13PG-13PG-13RNot RatedPG-13RPG-13PG-13PG-13PGPG-13PGPG-13PG-13RPGPG-13RRPG-13PG-13RRRNC-17RRPGPGRPG-13RNC-17Not RatedRPG-13RPG-13PG-13RPGPG-13Not RatedPG-13PG-13RRRPGPGPG-13RRPG-13RNC-17PG-13PGPG-13PG-13RRRPG-13Not RatedPG-13PG-13RRRRPGRPGNot RatedNot RatedRRRRTV-MANot RatedNot RatedNot RatedPG-13PG-13GRPG-13PG-13RPG-13PGPG-13RRRPGRPGRPG-13RRPG-13PG-13PGPG-13RPG-13PG-13PG-13RRRPGRPGRPGPG-13PG-13RRPG-13PG-13PG-13PG-13RRRPGRRPG-13PGPG-13PGRPG-13RRPG-13PG-13PG-13RPGRRPG-13PG-13PGPG-13PGPG-13PG-13PGRRPG-13RRRPG-13PG-13RPGPGPG-13PGPG-13PG-13PG-13PGPG-13RRPG-13RPG-13PG-13RPG-13RRPG-13PG-13GPG-13RPG-13RRRPG-13GGRRPG-13RRPG-13PG-13PG-13PG-13PG-13PG-13RRRRPGRRPGRRPG-13PGRRRRPGRRPGGPG-13PG-13RPG-13PG-13RRPG-13PG-13PGUnratedPG-13PG-13RRRRRPG-13RPG-13PG-13PG-13PG-13PGRPG-13RPGPG-13RRRPG-13PG-13RRRRRPG-13RRPG-13GPG-13Not RatedRRUnratedPGPGNot RatedRRPG-13RPG-13RPGRPG-13PG-13PG-13GRPG-13PG-13RPG-13RRPG-13RRPG-13PG-13RRRRPGPG-13PG-13RRPG-13PG-13RPGPG-13RPG-13PG-13RPG-13PG-13RRRRRRNot RatedRPG-13RPGRRPG-13PG-13RRRPG-13RPG-13PGRPG-13RPGPG-13RPG-13RPGPGPG-13PG-13RPG-13RRPGRRRPGPG-13PG-13PG-13PG-13PG-13PG-13PGPG-13PG-13PG-13RPG-13Not RatedPG-13PG-13Not RatedRPGRRRRPG-13RPG-13PG-13PG-13PGPG-13PGGRRNot RatedPGPGRPG-13RRRRRRPGPG-13Not RatedRPGPG-13PG-13PG-13PG-13RPG-13RPGPG-13PGPGPGPGPGRRPG-13PG-13RPG-13GPG-13PGRPGRRRPG-13RPG-13RNot RatedPG-13PGPG-13RRRGRNot RatedPG-13PG-13PGRNot RatedPG-13GPGPG-13PG-13RRPGPG-13RRRGRNot RatedNot RatedUnratedPG-13PG-13PG-13RRPGPGRRPG-13RPG-13RRPG-13PG-13RGRRRPG-13PG-13RPG-13PG-13RPG-13RRPGRPGRRRPG-13PG-13RPGPG-13RRRPG-13PG-13RPG-13PG-13RPG-13PG-13PG-13PGRRRRPGRRPGPG-13RRRRPGPG-13PG-13RRPG-13GRPG-13NC-17RRPG-13RRPGPG-13RPGPG-13RPGRRPG-13PG-13RRPG-13RRPGGRRRPGPG-13RRRRRPGPG-13RRRPG-13RPG-13RRPG-13PG-13PG-13PGPGPGRRRPG-13PG-13RPGPG-13PGPG-13PG-13PG-13RPG-13RNot RatedRPGRPG-13PG-13RPG-13RNot RatedRPG-13RRRPG-13RPG-13PG-13PG-13RRRGRPGPG-13Not RatedPGRRRRPG-13PGPG-13RPG-13RRRRRPG-13PGPG-13RNot RatedRPG-13RPGRRRRPG-13RRPG-13RPG-13RRPG-13RPG-13PG-13PG-13PG-13PGRRPG-13PG-13RPG-13PG-13PG-13RRRRGRPG-13PG-13RRRPG-13RRPG-13RRRRRRPG-13RPG-13RPG-13PG-13PG-13PG-13PG-13PGRPGRRPGRPG-13PG-13PG-13RRRPG-13PG-13PG-13RPG-13PG-13RPG-13PG-13GPG-13PGRRPG-13RPG-13PG-13RPGPG-13PG-13PG-13PGRPG-13PG-13RPGPG-13PG-13PG-13PG-13PG-13RRRRPG-13Not RatedGPG-13RPG-13PGPG-13RPG-13PG-13PG-13PG-13PGRPG-13PG-13PG-13RRRRPG-13PG-13GRRPG-13PG-13PGRRPG-13PGPGRRPG-13PG-13PG-13RRNot RatedRPG-13RRNot RatedRRPG-13RRRPG-13PG-13RNot RatedRPG-13PG-13RPG-13Not RatedRUnratedPG-13RPG-13PGPG-13RRRRNot RatedRPGRRPG-13PG-13RPG-13GPG-13RPG-13PG-13PGPG-13RRPGRRPGRPGPGRRPG-13PG-13PG-13RRPG-13PG-13RRPG-13PG-13RPGPG-13PG-13PG-13PG-13RPG-13PG-13RPG-13PGPG-13PGRRPG-13PG-13PG-13RPG-13Not RatedRGPG-13PGRRRRRPG-13RNot RatedPG-13PG-13PG-13Not RatedPG-13RPG-13RRPGRPG-13PG-13PG-13RRPG-13PGRRPG-13PGPG-13RRPG-13PGRPG-13RRPG-13PG-13RRRRRPG-13RUnratedRPGRRRRRRRRRRPG-13RPGRRPG-13RPG-13PGPGPG-13PGRRPG-13PGPG-13Not RatedRRNot RatedPG-13RPG-13PG-13PGPG-13PG-13RPG-13PG-13RRRPG-13PGRRRPG-13PG-13RRRRNot RatedRRPG-13GTV-PGPGPG-13RPGRRRPGPG-13PG-13PGPG-13RPG-13RRRPGRPG-13PGRRPGRPG-13PGRPG-13PG-13Not RatedPGRRPG-13RRPG-13RNot RatedRRRPG-13PGPG-13Not RatedRPG-13RPG-13RRRRPG-13PG-13RPG-13PG-13RRRRPG-13PGPG-13PG-13RPG-13PGPG-13RPGPGRRRPG-13PGPGRPG-13PG-13PG-13PGPG-13RRPG-13RRRPG-13PGPG-13Not RatedGPG-13PG-13RRRRPGPG-13PG-13PGPG-13RPG-13RRPG-13PGRRRRPG-13PG-13PG-13PG-13RRRPG-13Not RatedPG-13PG-13RRPG-13RRRPG-13RPGPGRRRRPG-13PGRPG-13RPGRRRPG-13PG-13Not RatedRRGPG-13PG-13PGPG-13RPG-13PG-13GPGRPGPG-13PG-13PG-13RRNot RatedPG-13PGRRRPGPG-13RRPGRPG-13PG-13RRPGRRPGPG-13RPG-13RRRRNot RatedRPGPG-13PGRRPG-13RRRRRRRRPG-13PG-13RRPG-13Not RatedPG-13PGNot RatedRPG-13Not RatedPG-13RRRRRPG-13PGPG-13RPGPGRPG-13RRNot RatedRRRRNot RatedRNot RatedRPG-13PG-13PG-13RRPG-13PG-13PG-13RPG-13RRPG-13RPG-13PG-13RPG-13PG-13PG-13PGRRPG-13PG-13RPG-13PG-13RNC-17PG-13PG-13RPG-13PG-13PG-13PG-13RPG-13RGPGRPG-13PG-13RPGRPG-13PG-13Not RatedPG-13RPGPG-13RRPG-13PG-13PG-13PG-13PGPG-13PG-13PG-13RUnratedPG-13RPG-13RRRRPG-13RRPGPG-13RPG-13PG-13RNot RatedRRRPGPGRRPG-13RRRRPG-13PG-13PG-13RPG-13RPG-13RRPGPGRRPGPG-13PG-13Not RatedNot RatedPG-13Not RatedPG-13PGRRPGNot RatedRRRRRPG-13RPG-13RNot RatedGPGPG-13PG-13RRRPG-13PG-13RGNot RatedPG-13RPGRPG-13PG-13PG-13PGPG-13PG-13RRRPG-13GNot RatedRNot RatedRRPGRRRRRPGRPG-13RPGRRRRPG-13RPG-13PG-13PGPG-13RNC-17RPGRPG-13RNot RatedRNot RatedPG-13Not RatedNot RatedPG-13PGPG-13RPG-13PG-13PG-13PG-13RRRPG-13PG-13RPG-13PG-13RRPG-13PG-13PG-13PG-13RPG-13RRRRRRRPG-13RPG-13PGRRPG-13PG-13PG-13RPGRRRRRRNot RatedPG-13RPGPG-13RRRRPGRRPG-13PGRPG-13RRRRPG-13PG-13RPG-13PG-13PGPG-13PGPG-13PGRNot RatedRRPGRPG-13RPG-13PGPG-13PG-13PG-13RRRRRRRRPG-13PG-13PG-13PGRRPGRPG-13RPG-13RRRPG-13RRRPG-13PG-13PG-13PG-13PGRRRPG-13PGRRRRRRPGRPG-13RRRPG-13Not RatedRNot RatedRRRPG-13PG-13RPG-13PG-13RPG-13PGPG-13RRNot RatedPGRPG-13RPG-13RPG-13Not RatedPG-13PG-13PG-13PGPG-13RRNot RatedPGRRNot RatedPG-13PG-13Not RatedRRPG-13Not RatedRPG-13PG-13Not RatedPGRPG-13PG-13RPGRRNot RatedPG-13RPGPG-13RPG-13RRPG-13RPG-13PG-13PG-13RPG-13PG-13RNC-17RRRRRPGPG-13RRRGRPG-13PG-13RNot RatedPG-13PG-13RRPG-13RPG-13RPGPG-13PGRPG-13PG-13RRPG-13RPG-13RRRPGRRRNot RatedPG-13PG-13RRPG-13PG-13RRRPG-13RPGPG-13RRPG-13PGPG-13Not RatedPG-13RRRRNot RatedRRNot RatedRRRPG-13PG-13RRRPG-13PG-13PGPG-13RPG-13RRPG-13RPGRPG-13PG-13RPG-13RNot RatedRRPG-13RRRPG-13RRPG-13PG-13RRRRPG-13RPG-13RPG-13RPG-13PGPGPG-13RPGPG-13RRNot RatedPG-13RRRPG-13RRPG-13PG-13PG-13PG-13RRPG-13PGPG-13RRRPG-13RPG-13PG-13RRNot RatedRRPG-13RRPGRNot RatedRNot RatedPG-13Not RatedRPG-13PG-13RRRNot RatedRPG-13PG-13PG-13RRRRPG-13PGNot RatedRPG-13PG-13PG-13RPG-13RPG-13RRRRPG-13RPG-13RPG-13RRRPG-13RPG-13RRRRPG-13PG-13RPGPG-13PG-13RRRPGPG-13PGPGPG-13PGPG-13RPGPG-13RRRPG-13PG-13RRPG-13RRNot RatedRPG-13RRRRPG-13PG-13RPG-13RPG-13PG-13PG-13RPG-13PG-13PGPG-13RPG-13GPG-13PG-13RRPGPG-13PG-13RRPG-13PGPG-13RPG-13RPGRRPG-13RRPG-13PG-13RRPG-13RRPG-13PG-13RPG-13RRRRRRNot RatedRRRRPG-13PGPG-13RPG-13RRPG-13PG-13Not RatedPG-13PG-13RRPG-13PG-13PGRRRPG-13PG-13RRRPG-13PGRRPG-13PG-13PGPG-13PG-13RPG-13RPGPG-13PGPGRPG-13RRRPG-13RPG-13PGRPG-13RPG-13PG-13RRNot RatedPG-13RRPG-13PG-13PG-13PGRNot RatedRRRPG-13RRPGRRPG-13RPG-13RRPG-13RPG-13RPG-13RRRRPG-13RPG-13RPGRRPG-13PG-13PGPG-13RPG-13RRRRPG-13RPG-13PG-13PG-13RRPG-13PG-13PG-13RPG-13PG-13RRPGPG-13RPGPG-13PG-13RPGPG-13RPG-13RRRRRRPG-13RPG-13RRPGPG-13Not RatedRPG-13RRRRRRPG-13PG-13PG-13RPG-13RPGPG-13RRPG-13RRRPG-13RPGRRPG-13PG-13PG-13PGPG-13Not RatedRRRPG-13RRPG-13PG-13PGRRPG-13TV-MAPG-13RPG-13RPG-13PGRRRNot RatedRRRNot RatedNot RatedPG-13PG-13RPGRPG-13PG-13RRRNot RatedRRPG-13PG-13PG-13RRPG-13PG-13PG-13PG-13RRPG-13PG-13Not RatedNot RatedRRPG-13RPG-13PGPGGRPG-13PGPG-13PG-13PG-13PGRRRRNot RatedRRRRRPGUnratedPG-13RRRNot RatedRRPG-13RRPGRPGRPGRRPG-13PG-13PG-13PG-13PG-13RPG-13PG-13PG-13RRPGPG-13PG-13RPG-13PGPG-13RPG-13PGPG-13RNot RatedRRPG-13PG-13TV-PGPGRPG-13RPG-13PG-13Not RatedRRRPG-13PGRRRRPG-13RRRPG-13RPG-13RPG-13RRPG-13PG-13PG-13PG-13PG-13RPGPG-13PG-13PGPG-13PG-13RRPG-13RRRNot RatedRRPG-13PG-13PG-13RPG-13RRRRRPG-13PG-13PGPG-13RRPG-13RRPG-13PG-13PG-13PGRPGRPG-13PG-13PGRRRPG-13PG-13Not RatedRRPG-13PGUnratedRPGPG-13PG-13PGRPG-13RPG-13PG-13Not RatedRPGRRNot RatedRRPG-13RRRPGRRRPGPG-13RPGPG-13RPG-13RPGPG-13PG-13RRPG-13RPGNot RatedRPG-13RPG-13RPGPG-13RRRPG-13RRRPGRRPG-13RNot RatedRPG-13PG-13RNot RatedPG-13Not RatedPG-13Not RatedPG-13PGPG-13PG-13RRUnratedRPGPG-13PG-13PG-13PG-13RRPG-13RPG-13PGPG-13RRPG-13PG-13RPG-13PGRPGRPG-13RRPGPG-13RPG-13RRPG-13PGRRPG-13RRRRPG-13PG-13RRPG-13RPG-13PG-13RPG-13PG-13RRPG-13PG-13PG-13RRRRRPG-13RPG-13RRRPG-13PG-13PG-13GRPG-13PG-13RPGPG-13RPG-13PGRRNot RatedRRRRRRPG-13PG-13PG-13RRPG-13Not RatedRRRRPGPG-13RPG-13PG-13PGRRPGRPG-13PG-13Not RatedPG-13RRRPG-13Not RatedPG-13RPG-13PG-13PGNot RatedRPG-13Not RatedPG-13PG-13RRRRPGRRRPG-13RRRRPG-13RRRRRNot RatedPG-13Not RatedPG-13RNot RatedRRPGUnratedPGRRPG-13PG-13RRPG-13RPG-13PGPGPG-13RRPGNot RatedPGRPGPG-13RRPGRPG-13Not RatedRRRPG-13Not RatedRNot RatedTV-MARRTV-MANot RatedRPG-13PGPG-13Not RatedPG-13PG-13RPG-13PG-13RRPG-13PG-13PGPG-13PG-13PG-13PG-13PG-13RRRPG-13PG-13RRRRRPG-13RPG-13PG-13RPG-13RRPG-13Not RatedRRRPGRRPG-13RRRRPG-13RRRPG-13RPG-13PG-13RRUnratedPG-13RRPG-13PG-13PGPGPG-13RPGRPGRRRRPGRPG-13RPG-13PG-13PG-13PG-13PG-13RRPG-13RNot RatedPG-13RRRRRPG-13PG-13RRRRRPG-13RPG-13RRPG-13RRPG-13PG-13PG-13RPG-13PG-13PG-13PG-13Not RatedPG-13PGRNot RatedRPG-13RPGPG-13RPGRNot RatedNot RatedPG-13RRRRRPGPG-13PG-13PG-13PGPG-13Not RatedNot RatedRPG-13RRRRRPGRRRPG-13RPGRRPG-13PG-13RRRUnratedPGRPG-13PG-13RRRRRRRNot RatedRRNot RatedPGNot RatedPGRPGPGRPGRPG-13RRPGPG-13RPG-13PG-13UnratedRRPG-13PG-13PGPG-13RRPG-13RRPG-13PG-13PG-13PG-13PG-13PG-13PG-13RRPG-13PG-13RRPG-13PG-13RRRRPGPG-13RPGPG-13PG-13RPGPGRPG-13RRRRGRRRPG-13PG-13PGRPG-13PG-13RRPG-13RRRRRPGRPGPGPGRPGRPGRPG-13PG-13PG-13PGRRPG-13RPG-13PG-13RRPGRRRPGPGPG-13RRRRNot RatedRPGPG-13PG-13Not RatedPGRPG-13RPGRPGPG-13RRNot RatedPG-13PG-13PGNot RatedPGNot RatedRRRTV-MAPGNot RatedPGPGPG-13PG-13RNot RatedPGNot RatedRPGRPG-13Not RatedNot RatedPG-13PG-13PGNot RatedNot RatedNot RatedNot RatedNot RatedNot RatedNot RatedRRRNot RatedNot RatedNot RatedNot RatedUnratedPG-13Not RatedNot RatedPGNot RatedRNot RatedTV-14PG-13RRPG-13Not RatedNot RatedRRRRRRRPGNot RatedRNot RatedRRNot RatedRNot RatedRPG-13Not RatedPG-13RRPG-13Not RatedNot RatedRRRRPG-13PG-13RRPGRPGPGPGNot RatedRRTV-PGPG-13RRNot RatedRRRRRRRR' to numeric",
          "traceback": [
            "\u001b[0;31m---------------------------------------------------------------------------\u001b[0m",
            "\u001b[0;31mTypeError\u001b[0m                                 Traceback (most recent call last)",
            "\u001b[0;32m<ipython-input-20-be9986b9967f>\u001b[0m in \u001b[0;36m<cell line: 2>\u001b[0;34m()\u001b[0m\n\u001b[1;32m      1\u001b[0m \u001b[0;31m# Calculate the mean and median ratings\u001b[0m\u001b[0;34m\u001b[0m\u001b[0;34m\u001b[0m\u001b[0m\n\u001b[0;32m----> 2\u001b[0;31m \u001b[0mmean_rating\u001b[0m \u001b[0;34m=\u001b[0m \u001b[0mmovies_data\u001b[0m\u001b[0;34m[\u001b[0m\u001b[0;34m'rating'\u001b[0m\u001b[0;34m]\u001b[0m\u001b[0;34m.\u001b[0m\u001b[0mmean\u001b[0m\u001b[0;34m(\u001b[0m\u001b[0;34m)\u001b[0m\u001b[0;34m\u001b[0m\u001b[0;34m\u001b[0m\u001b[0m\n\u001b[0m\u001b[1;32m      3\u001b[0m \u001b[0mmedian_rating\u001b[0m \u001b[0;34m=\u001b[0m \u001b[0mmovies_data\u001b[0m\u001b[0;34m[\u001b[0m\u001b[0;34m'rating'\u001b[0m\u001b[0;34m]\u001b[0m\u001b[0;34m.\u001b[0m\u001b[0mmedian\u001b[0m\u001b[0;34m(\u001b[0m\u001b[0;34m)\u001b[0m\u001b[0;34m\u001b[0m\u001b[0;34m\u001b[0m\u001b[0m\n\u001b[1;32m      4\u001b[0m \u001b[0;34m\u001b[0m\u001b[0m\n\u001b[1;32m      5\u001b[0m \u001b[0mprint\u001b[0m\u001b[0;34m(\u001b[0m\u001b[0;34m\"Mean rating:\"\u001b[0m\u001b[0;34m,\u001b[0m \u001b[0mmean_rating\u001b[0m\u001b[0;34m)\u001b[0m\u001b[0;34m\u001b[0m\u001b[0;34m\u001b[0m\u001b[0m\n",
            "\u001b[0;32m/usr/local/lib/python3.10/dist-packages/pandas/core/series.py\u001b[0m in \u001b[0;36mmean\u001b[0;34m(self, axis, skipna, numeric_only, **kwargs)\u001b[0m\n\u001b[1;32m   6223\u001b[0m         \u001b[0;34m**\u001b[0m\u001b[0mkwargs\u001b[0m\u001b[0;34m,\u001b[0m\u001b[0;34m\u001b[0m\u001b[0;34m\u001b[0m\u001b[0m\n\u001b[1;32m   6224\u001b[0m     ):\n\u001b[0;32m-> 6225\u001b[0;31m         \u001b[0;32mreturn\u001b[0m \u001b[0mNDFrame\u001b[0m\u001b[0;34m.\u001b[0m\u001b[0mmean\u001b[0m\u001b[0;34m(\u001b[0m\u001b[0mself\u001b[0m\u001b[0;34m,\u001b[0m \u001b[0maxis\u001b[0m\u001b[0;34m,\u001b[0m \u001b[0mskipna\u001b[0m\u001b[0;34m,\u001b[0m \u001b[0mnumeric_only\u001b[0m\u001b[0;34m,\u001b[0m \u001b[0;34m**\u001b[0m\u001b[0mkwargs\u001b[0m\u001b[0;34m)\u001b[0m\u001b[0;34m\u001b[0m\u001b[0;34m\u001b[0m\u001b[0m\n\u001b[0m\u001b[1;32m   6226\u001b[0m \u001b[0;34m\u001b[0m\u001b[0m\n\u001b[1;32m   6227\u001b[0m     \u001b[0;34m@\u001b[0m\u001b[0mdoc\u001b[0m\u001b[0;34m(\u001b[0m\u001b[0mmake_doc\u001b[0m\u001b[0;34m(\u001b[0m\u001b[0;34m\"median\"\u001b[0m\u001b[0;34m,\u001b[0m \u001b[0mndim\u001b[0m\u001b[0;34m=\u001b[0m\u001b[0;36m1\u001b[0m\u001b[0;34m)\u001b[0m\u001b[0;34m)\u001b[0m\u001b[0;34m\u001b[0m\u001b[0;34m\u001b[0m\u001b[0m\n",
            "\u001b[0;32m/usr/local/lib/python3.10/dist-packages/pandas/core/generic.py\u001b[0m in \u001b[0;36mmean\u001b[0;34m(self, axis, skipna, numeric_only, **kwargs)\u001b[0m\n\u001b[1;32m  11990\u001b[0m         \u001b[0;34m**\u001b[0m\u001b[0mkwargs\u001b[0m\u001b[0;34m,\u001b[0m\u001b[0;34m\u001b[0m\u001b[0;34m\u001b[0m\u001b[0m\n\u001b[1;32m  11991\u001b[0m     ) -> Series | float:\n\u001b[0;32m> 11992\u001b[0;31m         return self._stat_function(\n\u001b[0m\u001b[1;32m  11993\u001b[0m             \u001b[0;34m\"mean\"\u001b[0m\u001b[0;34m,\u001b[0m \u001b[0mnanops\u001b[0m\u001b[0;34m.\u001b[0m\u001b[0mnanmean\u001b[0m\u001b[0;34m,\u001b[0m \u001b[0maxis\u001b[0m\u001b[0;34m,\u001b[0m \u001b[0mskipna\u001b[0m\u001b[0;34m,\u001b[0m \u001b[0mnumeric_only\u001b[0m\u001b[0;34m,\u001b[0m \u001b[0;34m**\u001b[0m\u001b[0mkwargs\u001b[0m\u001b[0;34m\u001b[0m\u001b[0;34m\u001b[0m\u001b[0m\n\u001b[1;32m  11994\u001b[0m         )\n",
            "\u001b[0;32m/usr/local/lib/python3.10/dist-packages/pandas/core/generic.py\u001b[0m in \u001b[0;36m_stat_function\u001b[0;34m(self, name, func, axis, skipna, numeric_only, **kwargs)\u001b[0m\n\u001b[1;32m  11947\u001b[0m         \u001b[0mvalidate_bool_kwarg\u001b[0m\u001b[0;34m(\u001b[0m\u001b[0mskipna\u001b[0m\u001b[0;34m,\u001b[0m \u001b[0;34m\"skipna\"\u001b[0m\u001b[0;34m,\u001b[0m \u001b[0mnone_allowed\u001b[0m\u001b[0;34m=\u001b[0m\u001b[0;32mFalse\u001b[0m\u001b[0;34m)\u001b[0m\u001b[0;34m\u001b[0m\u001b[0;34m\u001b[0m\u001b[0m\n\u001b[1;32m  11948\u001b[0m \u001b[0;34m\u001b[0m\u001b[0m\n\u001b[0;32m> 11949\u001b[0;31m         return self._reduce(\n\u001b[0m\u001b[1;32m  11950\u001b[0m             \u001b[0mfunc\u001b[0m\u001b[0;34m,\u001b[0m \u001b[0mname\u001b[0m\u001b[0;34m=\u001b[0m\u001b[0mname\u001b[0m\u001b[0;34m,\u001b[0m \u001b[0maxis\u001b[0m\u001b[0;34m=\u001b[0m\u001b[0maxis\u001b[0m\u001b[0;34m,\u001b[0m \u001b[0mskipna\u001b[0m\u001b[0;34m=\u001b[0m\u001b[0mskipna\u001b[0m\u001b[0;34m,\u001b[0m \u001b[0mnumeric_only\u001b[0m\u001b[0;34m=\u001b[0m\u001b[0mnumeric_only\u001b[0m\u001b[0;34m\u001b[0m\u001b[0;34m\u001b[0m\u001b[0m\n\u001b[1;32m  11951\u001b[0m         )\n",
            "\u001b[0;32m/usr/local/lib/python3.10/dist-packages/pandas/core/series.py\u001b[0m in \u001b[0;36m_reduce\u001b[0;34m(self, op, name, axis, skipna, numeric_only, filter_type, **kwds)\u001b[0m\n\u001b[1;32m   6131\u001b[0m                     \u001b[0;34m\"with non-numeric dtypes.\"\u001b[0m\u001b[0;34m\u001b[0m\u001b[0;34m\u001b[0m\u001b[0m\n\u001b[1;32m   6132\u001b[0m                 )\n\u001b[0;32m-> 6133\u001b[0;31m             \u001b[0;32mreturn\u001b[0m \u001b[0mop\u001b[0m\u001b[0;34m(\u001b[0m\u001b[0mdelegate\u001b[0m\u001b[0;34m,\u001b[0m \u001b[0mskipna\u001b[0m\u001b[0;34m=\u001b[0m\u001b[0mskipna\u001b[0m\u001b[0;34m,\u001b[0m \u001b[0;34m**\u001b[0m\u001b[0mkwds\u001b[0m\u001b[0;34m)\u001b[0m\u001b[0;34m\u001b[0m\u001b[0;34m\u001b[0m\u001b[0m\n\u001b[0m\u001b[1;32m   6134\u001b[0m \u001b[0;34m\u001b[0m\u001b[0m\n\u001b[1;32m   6135\u001b[0m     \u001b[0;34m@\u001b[0m\u001b[0mAppender\u001b[0m\u001b[0;34m(\u001b[0m\u001b[0mmake_doc\u001b[0m\u001b[0;34m(\u001b[0m\u001b[0;34m\"any\"\u001b[0m\u001b[0;34m,\u001b[0m \u001b[0mndim\u001b[0m\u001b[0;34m=\u001b[0m\u001b[0;36m1\u001b[0m\u001b[0;34m)\u001b[0m\u001b[0;34m)\u001b[0m\u001b[0;34m\u001b[0m\u001b[0;34m\u001b[0m\u001b[0m\n",
            "\u001b[0;32m/usr/local/lib/python3.10/dist-packages/pandas/core/nanops.py\u001b[0m in \u001b[0;36mf\u001b[0;34m(values, axis, skipna, **kwds)\u001b[0m\n\u001b[1;32m    145\u001b[0m                     \u001b[0mresult\u001b[0m \u001b[0;34m=\u001b[0m \u001b[0malt\u001b[0m\u001b[0;34m(\u001b[0m\u001b[0mvalues\u001b[0m\u001b[0;34m,\u001b[0m \u001b[0maxis\u001b[0m\u001b[0;34m=\u001b[0m\u001b[0maxis\u001b[0m\u001b[0;34m,\u001b[0m \u001b[0mskipna\u001b[0m\u001b[0;34m=\u001b[0m\u001b[0mskipna\u001b[0m\u001b[0;34m,\u001b[0m \u001b[0;34m**\u001b[0m\u001b[0mkwds\u001b[0m\u001b[0;34m)\u001b[0m\u001b[0;34m\u001b[0m\u001b[0;34m\u001b[0m\u001b[0m\n\u001b[1;32m    146\u001b[0m             \u001b[0;32melse\u001b[0m\u001b[0;34m:\u001b[0m\u001b[0;34m\u001b[0m\u001b[0;34m\u001b[0m\u001b[0m\n\u001b[0;32m--> 147\u001b[0;31m                 \u001b[0mresult\u001b[0m \u001b[0;34m=\u001b[0m \u001b[0malt\u001b[0m\u001b[0;34m(\u001b[0m\u001b[0mvalues\u001b[0m\u001b[0;34m,\u001b[0m \u001b[0maxis\u001b[0m\u001b[0;34m=\u001b[0m\u001b[0maxis\u001b[0m\u001b[0;34m,\u001b[0m \u001b[0mskipna\u001b[0m\u001b[0;34m=\u001b[0m\u001b[0mskipna\u001b[0m\u001b[0;34m,\u001b[0m \u001b[0;34m**\u001b[0m\u001b[0mkwds\u001b[0m\u001b[0;34m)\u001b[0m\u001b[0;34m\u001b[0m\u001b[0;34m\u001b[0m\u001b[0m\n\u001b[0m\u001b[1;32m    148\u001b[0m \u001b[0;34m\u001b[0m\u001b[0m\n\u001b[1;32m    149\u001b[0m             \u001b[0;32mreturn\u001b[0m \u001b[0mresult\u001b[0m\u001b[0;34m\u001b[0m\u001b[0;34m\u001b[0m\u001b[0m\n",
            "\u001b[0;32m/usr/local/lib/python3.10/dist-packages/pandas/core/nanops.py\u001b[0m in \u001b[0;36mnew_func\u001b[0;34m(values, axis, skipna, mask, **kwargs)\u001b[0m\n\u001b[1;32m    402\u001b[0m             \u001b[0mmask\u001b[0m \u001b[0;34m=\u001b[0m \u001b[0misna\u001b[0m\u001b[0;34m(\u001b[0m\u001b[0mvalues\u001b[0m\u001b[0;34m)\u001b[0m\u001b[0;34m\u001b[0m\u001b[0;34m\u001b[0m\u001b[0m\n\u001b[1;32m    403\u001b[0m \u001b[0;34m\u001b[0m\u001b[0m\n\u001b[0;32m--> 404\u001b[0;31m         \u001b[0mresult\u001b[0m \u001b[0;34m=\u001b[0m \u001b[0mfunc\u001b[0m\u001b[0;34m(\u001b[0m\u001b[0mvalues\u001b[0m\u001b[0;34m,\u001b[0m \u001b[0maxis\u001b[0m\u001b[0;34m=\u001b[0m\u001b[0maxis\u001b[0m\u001b[0;34m,\u001b[0m \u001b[0mskipna\u001b[0m\u001b[0;34m=\u001b[0m\u001b[0mskipna\u001b[0m\u001b[0;34m,\u001b[0m \u001b[0mmask\u001b[0m\u001b[0;34m=\u001b[0m\u001b[0mmask\u001b[0m\u001b[0;34m,\u001b[0m \u001b[0;34m**\u001b[0m\u001b[0mkwargs\u001b[0m\u001b[0;34m)\u001b[0m\u001b[0;34m\u001b[0m\u001b[0;34m\u001b[0m\u001b[0m\n\u001b[0m\u001b[1;32m    405\u001b[0m \u001b[0;34m\u001b[0m\u001b[0m\n\u001b[1;32m    406\u001b[0m         \u001b[0;32mif\u001b[0m \u001b[0mdatetimelike\u001b[0m\u001b[0;34m:\u001b[0m\u001b[0;34m\u001b[0m\u001b[0;34m\u001b[0m\u001b[0m\n",
            "\u001b[0;32m/usr/local/lib/python3.10/dist-packages/pandas/core/nanops.py\u001b[0m in \u001b[0;36mnanmean\u001b[0;34m(values, axis, skipna, mask)\u001b[0m\n\u001b[1;32m    718\u001b[0m     \u001b[0mcount\u001b[0m \u001b[0;34m=\u001b[0m \u001b[0m_get_counts\u001b[0m\u001b[0;34m(\u001b[0m\u001b[0mvalues\u001b[0m\u001b[0;34m.\u001b[0m\u001b[0mshape\u001b[0m\u001b[0;34m,\u001b[0m \u001b[0mmask\u001b[0m\u001b[0;34m,\u001b[0m \u001b[0maxis\u001b[0m\u001b[0;34m,\u001b[0m \u001b[0mdtype\u001b[0m\u001b[0;34m=\u001b[0m\u001b[0mdtype_count\u001b[0m\u001b[0;34m)\u001b[0m\u001b[0;34m\u001b[0m\u001b[0;34m\u001b[0m\u001b[0m\n\u001b[1;32m    719\u001b[0m     \u001b[0mthe_sum\u001b[0m \u001b[0;34m=\u001b[0m \u001b[0mvalues\u001b[0m\u001b[0;34m.\u001b[0m\u001b[0msum\u001b[0m\u001b[0;34m(\u001b[0m\u001b[0maxis\u001b[0m\u001b[0;34m,\u001b[0m \u001b[0mdtype\u001b[0m\u001b[0;34m=\u001b[0m\u001b[0mdtype_sum\u001b[0m\u001b[0;34m)\u001b[0m\u001b[0;34m\u001b[0m\u001b[0;34m\u001b[0m\u001b[0m\n\u001b[0;32m--> 720\u001b[0;31m     \u001b[0mthe_sum\u001b[0m \u001b[0;34m=\u001b[0m \u001b[0m_ensure_numeric\u001b[0m\u001b[0;34m(\u001b[0m\u001b[0mthe_sum\u001b[0m\u001b[0;34m)\u001b[0m\u001b[0;34m\u001b[0m\u001b[0;34m\u001b[0m\u001b[0m\n\u001b[0m\u001b[1;32m    721\u001b[0m \u001b[0;34m\u001b[0m\u001b[0m\n\u001b[1;32m    722\u001b[0m     \u001b[0;32mif\u001b[0m \u001b[0maxis\u001b[0m \u001b[0;32mis\u001b[0m \u001b[0;32mnot\u001b[0m \u001b[0;32mNone\u001b[0m \u001b[0;32mand\u001b[0m \u001b[0mgetattr\u001b[0m\u001b[0;34m(\u001b[0m\u001b[0mthe_sum\u001b[0m\u001b[0;34m,\u001b[0m \u001b[0;34m\"ndim\"\u001b[0m\u001b[0;34m,\u001b[0m \u001b[0;32mFalse\u001b[0m\u001b[0;34m)\u001b[0m\u001b[0;34m:\u001b[0m\u001b[0;34m\u001b[0m\u001b[0;34m\u001b[0m\u001b[0m\n",
            "\u001b[0;32m/usr/local/lib/python3.10/dist-packages/pandas/core/nanops.py\u001b[0m in \u001b[0;36m_ensure_numeric\u001b[0;34m(x)\u001b[0m\n\u001b[1;32m   1691\u001b[0m         \u001b[0;32mif\u001b[0m \u001b[0misinstance\u001b[0m\u001b[0;34m(\u001b[0m\u001b[0mx\u001b[0m\u001b[0;34m,\u001b[0m \u001b[0mstr\u001b[0m\u001b[0;34m)\u001b[0m\u001b[0;34m:\u001b[0m\u001b[0;34m\u001b[0m\u001b[0;34m\u001b[0m\u001b[0m\n\u001b[1;32m   1692\u001b[0m             \u001b[0;31m# GH#44008, GH#36703 avoid casting e.g. strings to numeric\u001b[0m\u001b[0;34m\u001b[0m\u001b[0;34m\u001b[0m\u001b[0m\n\u001b[0;32m-> 1693\u001b[0;31m             \u001b[0;32mraise\u001b[0m \u001b[0mTypeError\u001b[0m\u001b[0;34m(\u001b[0m\u001b[0;34mf\"Could not convert string '{x}' to numeric\"\u001b[0m\u001b[0;34m)\u001b[0m\u001b[0;34m\u001b[0m\u001b[0;34m\u001b[0m\u001b[0m\n\u001b[0m\u001b[1;32m   1694\u001b[0m         \u001b[0;32mtry\u001b[0m\u001b[0;34m:\u001b[0m\u001b[0;34m\u001b[0m\u001b[0;34m\u001b[0m\u001b[0m\n\u001b[1;32m   1695\u001b[0m             \u001b[0mx\u001b[0m \u001b[0;34m=\u001b[0m \u001b[0mfloat\u001b[0m\u001b[0;34m(\u001b[0m\u001b[0mx\u001b[0m\u001b[0;34m)\u001b[0m\u001b[0;34m\u001b[0m\u001b[0;34m\u001b[0m\u001b[0m\n",
            "\u001b[0;31mTypeError\u001b[0m: Could not convert string 'RRPGPGRRRRPGRPGPGPGRRPGRPGRRRRPGPGPGRRPGRRPGRPGPGPGRRRPGPGPGPGRRRRRRPGPGPGRPGPGRPGPGPGRPGGPGRPGPGPGPGPGRPGPGGPGPGRGPGRRPGRRPGNot RatedPGRRRRPGRRPGRRRNC-17RRPGRRRRRPGRRPGPGRRPGRPGPGPGGPGPGApprovedPGPGPGPGRRRPGRRRRRRPGRRPGRRRRRRRRRGRPGRRRRRRRRRRPGRRRRPGPGPGPGPGRRPGRRPGPGRRRRRRRPGRPGRRPGRPGRRPGPGPGRPGRTV-PGRNot RatedPGRRRRPGRRPGPGPGRPGRRRPGPGPGGPGPGPGRPGRRRRPGRPGRNot RatedRPGRRRPGRRPGGRPGPGRPGRRRPGRPGRPGRRPGPGPGPGRPGRPGPGRRPGRPGRPGRRPGPGRPGRRPGRRRPGPGRRRRPGRRRRPGPGRRRRNot RatedPGRPGPGRPGRRGRPGPGGRNot RatedNot RatedGRRPGPGRRPGPGRRRPGRPGPGRRRPGPGPGRRPGRRRRPGPGPGPGRRRPGRRRPGRRRRRPGPGPGPGRNot RatedRPGRRPGPGRRPGRRRRPGRRRRRRPGPGPGRPGPGPGGPGPGPGRRPGPGRRPGRRPGRRRPGRPGRRRRRPGRPGRRPGPGPGPGRRRRPGRRPGPGPGPGRRPGPGPGRPGRRPGPGRPGRRRRRNot RatedPGPGRNot RatedNot RatedPGRRPG-13PGPGRRPGRRPGRPG-13PGPGRPGPGPGPGRRRPGPGRPGPGRPGRRRRRPGPGRRPG-13PG-13PGPGRPGRRPGPG-13RPG-13RPGPGRPGRPGPGRRRPGRPGGRPG-13RPGRRPG-13PGPGPGRRPGRRRRPGPG-13RPGPGRPGPG-13PGRRRRRRRPGPG-13RPGPGPGRPGPGRPGRRRRPG-13Not RatedRRPGRPG-13PGRPGRRRRPGRPG-13PG-13PGPGRPGRRNot RatedPG-13PGPGRPGRPGRPGRPGPGRRRPGGPGRRPGRRNot RatedPG-13RRNot RatedPG-13RPG-13PGPGRPGRPG-13RPG-13PGRRRRPGPGRRPG-13PG-13PGPGRPG-13Not RatedPG-13RPGRPG-13RPGPGRRPGRPGPGNot RatedPG-13PG-13PGRPG-13PGRRUnratedPGPG-13PG-13PG-13PGRRPG-13RRPGPG-13RPG-13RPG-13PG-13RRRRPG-13PG-13RRRRNot RatedRRPGPGRPG-13PG-13PG-13RPG-13PGRPGPG-13RPG-13RRRRPGRPG-13PGPGUnratedPGPG-13RRRRPGRRPG-13RRPGRPG-13RPG-13PG-13RPGRPG-13PGGRPG-13PG-13PGRPG-13PGRRR..."
          ]
        }
      ],
      "source": [
        "# Calculate the mean and median ratings\n",
        "mean_rating = movies_data['rating'].mean()\n",
        "median_rating = movies_data['rating'].median()\n",
        "\n",
        "print(\"Mean rating:\", mean_rating)\n",
        "print(\"Median rating:\", median_rating)\n",
        "\n",
        "# Find the highest-rated movies\n",
        "highest_rated_movies = movies_data.nlargest(10, 'rating')\n",
        "print(highest_rated_movies[['title', 'rating']])"
      ]
    },
    {
      "cell_type": "code",
      "source": [
        "# Group by director and calculate average rating\n",
        "director_ratings = movies_data.groupby('director')['rating'].mean()\n",
        "\n",
        "# Find the top-rated directors\n",
        "top_directors = director_ratings.nlargest(10)\n",
        "print(top_directors)\n",
        "\n",
        "# Visualize top-rated directors\n",
        "top_directors.plot(kind='bar', title='Top-Rated Directors')\n",
        "plt.xlabel('Director')\n",
        "plt.ylabel('Average Rating')\n",
        "plt.show()"
      ],
      "metadata": {
        "id": "V4a77nkBY0KR"
      },
      "execution_count": null,
      "outputs": []
    },
    {
      "cell_type": "code",
      "source": [
        "# Count the number of movies released each year\n",
        "release_year_counts = movies_data['year'].value_counts()\n",
        "\n",
        "# Visualize release year distribution\n",
        "release_year_counts.plot(kind='bar', title='Distribution of Release Years')\n",
        "plt.xlabel('Year')\n",
        "plt.ylabel('Count')\n",
        "plt.show()"
      ],
      "metadata": {
        "id": "ocGmE4tuY1-M"
      },
      "execution_count": null,
      "outputs": []
    }
  ],
  "metadata": {
    "colab": {
      "provenance": [],
      "gpuType": "T4"
    },
    "kernelspec": {
      "display_name": "Python 3",
      "name": "python3"
    },
    "language_info": {
      "name": "python"
    },
    "accelerator": "GPU"
  },
  "nbformat": 4,
  "nbformat_minor": 0
}